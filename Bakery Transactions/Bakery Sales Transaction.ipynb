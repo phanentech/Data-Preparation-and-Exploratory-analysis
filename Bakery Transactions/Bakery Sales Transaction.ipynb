{
 "cells": [
  {
   "cell_type": "markdown",
   "id": "980fb43c",
   "metadata": {},
   "source": [
    "# BAKERY TRANSACTION ANALYSIS"
   ]
  },
  {
   "cell_type": "code",
   "execution_count": null,
   "id": "5fb35a11",
   "metadata": {},
   "outputs": [],
   "source": [
    "#Importing libraries\n",
    "import pandas as pd\n",
    "import seaborn as sns\n",
    "import matplotlib.pyplot as plt\n",
    "import warnings\n",
    "warnings.filterwarnings('ignore')\n",
    "#Importing file\n",
    "df=pd.read_csv(r'C:\\Users\\HP\\OneDrive\\Documents\\Python Scripts\\Bakery.csv')"
   ]
  },
  {
   "cell_type": "code",
   "execution_count": 2,
   "id": "ecca6a06",
   "metadata": {},
   "outputs": [
    {
     "data": {
      "text/html": [
       "<div>\n",
       "<style scoped>\n",
       "    .dataframe tbody tr th:only-of-type {\n",
       "        vertical-align: middle;\n",
       "    }\n",
       "\n",
       "    .dataframe tbody tr th {\n",
       "        vertical-align: top;\n",
       "    }\n",
       "\n",
       "    .dataframe thead th {\n",
       "        text-align: right;\n",
       "    }\n",
       "</style>\n",
       "<table border=\"1\" class=\"dataframe\">\n",
       "  <thead>\n",
       "    <tr style=\"text-align: right;\">\n",
       "      <th></th>\n",
       "      <th>TransactionNo</th>\n",
       "      <th>Items</th>\n",
       "      <th>DateTime</th>\n",
       "      <th>Daypart</th>\n",
       "      <th>DayType</th>\n",
       "    </tr>\n",
       "  </thead>\n",
       "  <tbody>\n",
       "    <tr>\n",
       "      <th>0</th>\n",
       "      <td>1</td>\n",
       "      <td>Bread</td>\n",
       "      <td>2016-10-30 09:58:11</td>\n",
       "      <td>Morning</td>\n",
       "      <td>Weekend</td>\n",
       "    </tr>\n",
       "    <tr>\n",
       "      <th>1</th>\n",
       "      <td>2</td>\n",
       "      <td>Scandinavian</td>\n",
       "      <td>2016-10-30 10:05:34</td>\n",
       "      <td>Morning</td>\n",
       "      <td>Weekend</td>\n",
       "    </tr>\n",
       "    <tr>\n",
       "      <th>2</th>\n",
       "      <td>2</td>\n",
       "      <td>Scandinavian</td>\n",
       "      <td>2016-10-30 10:05:34</td>\n",
       "      <td>Morning</td>\n",
       "      <td>Weekend</td>\n",
       "    </tr>\n",
       "    <tr>\n",
       "      <th>3</th>\n",
       "      <td>3</td>\n",
       "      <td>Hot chocolate</td>\n",
       "      <td>2016-10-30 10:07:57</td>\n",
       "      <td>Morning</td>\n",
       "      <td>Weekend</td>\n",
       "    </tr>\n",
       "    <tr>\n",
       "      <th>4</th>\n",
       "      <td>3</td>\n",
       "      <td>Jam</td>\n",
       "      <td>2016-10-30 10:07:57</td>\n",
       "      <td>Morning</td>\n",
       "      <td>Weekend</td>\n",
       "    </tr>\n",
       "    <tr>\n",
       "      <th>...</th>\n",
       "      <td>...</td>\n",
       "      <td>...</td>\n",
       "      <td>...</td>\n",
       "      <td>...</td>\n",
       "      <td>...</td>\n",
       "    </tr>\n",
       "    <tr>\n",
       "      <th>20502</th>\n",
       "      <td>9682</td>\n",
       "      <td>Coffee</td>\n",
       "      <td>2017-09-04 14:32:58</td>\n",
       "      <td>Afternoon</td>\n",
       "      <td>Weekend</td>\n",
       "    </tr>\n",
       "    <tr>\n",
       "      <th>20503</th>\n",
       "      <td>9682</td>\n",
       "      <td>Tea</td>\n",
       "      <td>2017-09-04 14:32:58</td>\n",
       "      <td>Afternoon</td>\n",
       "      <td>Weekend</td>\n",
       "    </tr>\n",
       "    <tr>\n",
       "      <th>20504</th>\n",
       "      <td>9683</td>\n",
       "      <td>Coffee</td>\n",
       "      <td>2017-09-04 14:57:06</td>\n",
       "      <td>Afternoon</td>\n",
       "      <td>Weekend</td>\n",
       "    </tr>\n",
       "    <tr>\n",
       "      <th>20505</th>\n",
       "      <td>9683</td>\n",
       "      <td>Pastry</td>\n",
       "      <td>2017-09-04 14:57:06</td>\n",
       "      <td>Afternoon</td>\n",
       "      <td>Weekend</td>\n",
       "    </tr>\n",
       "    <tr>\n",
       "      <th>20506</th>\n",
       "      <td>9684</td>\n",
       "      <td>Smoothies</td>\n",
       "      <td>2017-09-04 15:04:24</td>\n",
       "      <td>Afternoon</td>\n",
       "      <td>Weekend</td>\n",
       "    </tr>\n",
       "  </tbody>\n",
       "</table>\n",
       "<p>20507 rows × 5 columns</p>\n",
       "</div>"
      ],
      "text/plain": [
       "       TransactionNo          Items             DateTime    Daypart  DayType\n",
       "0                  1          Bread  2016-10-30 09:58:11    Morning  Weekend\n",
       "1                  2   Scandinavian  2016-10-30 10:05:34    Morning  Weekend\n",
       "2                  2   Scandinavian  2016-10-30 10:05:34    Morning  Weekend\n",
       "3                  3  Hot chocolate  2016-10-30 10:07:57    Morning  Weekend\n",
       "4                  3            Jam  2016-10-30 10:07:57    Morning  Weekend\n",
       "...              ...            ...                  ...        ...      ...\n",
       "20502           9682         Coffee  2017-09-04 14:32:58  Afternoon  Weekend\n",
       "20503           9682            Tea  2017-09-04 14:32:58  Afternoon  Weekend\n",
       "20504           9683         Coffee  2017-09-04 14:57:06  Afternoon  Weekend\n",
       "20505           9683         Pastry  2017-09-04 14:57:06  Afternoon  Weekend\n",
       "20506           9684      Smoothies  2017-09-04 15:04:24  Afternoon  Weekend\n",
       "\n",
       "[20507 rows x 5 columns]"
      ]
     },
     "execution_count": 2,
     "metadata": {},
     "output_type": "execute_result"
    }
   ],
   "source": [
    "df"
   ]
  },
  {
   "cell_type": "code",
   "execution_count": 3,
   "id": "67c47dba",
   "metadata": {},
   "outputs": [
    {
     "data": {
      "text/plain": [
       "(20507, 5)"
      ]
     },
     "execution_count": 3,
     "metadata": {},
     "output_type": "execute_result"
    }
   ],
   "source": [
    "#Knowing the dataset\n",
    "df.shape"
   ]
  },
  {
   "cell_type": "code",
   "execution_count": 4,
   "id": "ba174b64",
   "metadata": {},
   "outputs": [
    {
     "data": {
      "text/html": [
       "<div>\n",
       "<style scoped>\n",
       "    .dataframe tbody tr th:only-of-type {\n",
       "        vertical-align: middle;\n",
       "    }\n",
       "\n",
       "    .dataframe tbody tr th {\n",
       "        vertical-align: top;\n",
       "    }\n",
       "\n",
       "    .dataframe thead th {\n",
       "        text-align: right;\n",
       "    }\n",
       "</style>\n",
       "<table border=\"1\" class=\"dataframe\">\n",
       "  <thead>\n",
       "    <tr style=\"text-align: right;\">\n",
       "      <th></th>\n",
       "      <th>TransactionNo</th>\n",
       "      <th>Items</th>\n",
       "      <th>DateTime</th>\n",
       "      <th>Daypart</th>\n",
       "      <th>DayType</th>\n",
       "    </tr>\n",
       "  </thead>\n",
       "  <tbody>\n",
       "    <tr>\n",
       "      <th>0</th>\n",
       "      <td>False</td>\n",
       "      <td>False</td>\n",
       "      <td>False</td>\n",
       "      <td>False</td>\n",
       "      <td>False</td>\n",
       "    </tr>\n",
       "    <tr>\n",
       "      <th>1</th>\n",
       "      <td>False</td>\n",
       "      <td>False</td>\n",
       "      <td>False</td>\n",
       "      <td>False</td>\n",
       "      <td>False</td>\n",
       "    </tr>\n",
       "    <tr>\n",
       "      <th>2</th>\n",
       "      <td>False</td>\n",
       "      <td>False</td>\n",
       "      <td>False</td>\n",
       "      <td>False</td>\n",
       "      <td>False</td>\n",
       "    </tr>\n",
       "    <tr>\n",
       "      <th>3</th>\n",
       "      <td>False</td>\n",
       "      <td>False</td>\n",
       "      <td>False</td>\n",
       "      <td>False</td>\n",
       "      <td>False</td>\n",
       "    </tr>\n",
       "    <tr>\n",
       "      <th>4</th>\n",
       "      <td>False</td>\n",
       "      <td>False</td>\n",
       "      <td>False</td>\n",
       "      <td>False</td>\n",
       "      <td>False</td>\n",
       "    </tr>\n",
       "    <tr>\n",
       "      <th>...</th>\n",
       "      <td>...</td>\n",
       "      <td>...</td>\n",
       "      <td>...</td>\n",
       "      <td>...</td>\n",
       "      <td>...</td>\n",
       "    </tr>\n",
       "    <tr>\n",
       "      <th>20502</th>\n",
       "      <td>False</td>\n",
       "      <td>False</td>\n",
       "      <td>False</td>\n",
       "      <td>False</td>\n",
       "      <td>False</td>\n",
       "    </tr>\n",
       "    <tr>\n",
       "      <th>20503</th>\n",
       "      <td>False</td>\n",
       "      <td>False</td>\n",
       "      <td>False</td>\n",
       "      <td>False</td>\n",
       "      <td>False</td>\n",
       "    </tr>\n",
       "    <tr>\n",
       "      <th>20504</th>\n",
       "      <td>False</td>\n",
       "      <td>False</td>\n",
       "      <td>False</td>\n",
       "      <td>False</td>\n",
       "      <td>False</td>\n",
       "    </tr>\n",
       "    <tr>\n",
       "      <th>20505</th>\n",
       "      <td>False</td>\n",
       "      <td>False</td>\n",
       "      <td>False</td>\n",
       "      <td>False</td>\n",
       "      <td>False</td>\n",
       "    </tr>\n",
       "    <tr>\n",
       "      <th>20506</th>\n",
       "      <td>False</td>\n",
       "      <td>False</td>\n",
       "      <td>False</td>\n",
       "      <td>False</td>\n",
       "      <td>False</td>\n",
       "    </tr>\n",
       "  </tbody>\n",
       "</table>\n",
       "<p>20507 rows × 5 columns</p>\n",
       "</div>"
      ],
      "text/plain": [
       "       TransactionNo  Items  DateTime  Daypart  DayType\n",
       "0              False  False     False    False    False\n",
       "1              False  False     False    False    False\n",
       "2              False  False     False    False    False\n",
       "3              False  False     False    False    False\n",
       "4              False  False     False    False    False\n",
       "...              ...    ...       ...      ...      ...\n",
       "20502          False  False     False    False    False\n",
       "20503          False  False     False    False    False\n",
       "20504          False  False     False    False    False\n",
       "20505          False  False     False    False    False\n",
       "20506          False  False     False    False    False\n",
       "\n",
       "[20507 rows x 5 columns]"
      ]
     },
     "execution_count": 4,
     "metadata": {},
     "output_type": "execute_result"
    }
   ],
   "source": [
    "df.isnull()"
   ]
  },
  {
   "cell_type": "markdown",
   "id": "75ae3c14",
   "metadata": {},
   "source": [
    "# DATA CLEANING AND MODIFICATION\n"
   ]
  },
  {
   "cell_type": "code",
   "execution_count": 5,
   "id": "b5bb2270",
   "metadata": {},
   "outputs": [
    {
     "data": {
      "text/plain": [
       "0        False\n",
       "1        False\n",
       "2         True\n",
       "3        False\n",
       "4        False\n",
       "         ...  \n",
       "20502    False\n",
       "20503    False\n",
       "20504    False\n",
       "20505    False\n",
       "20506    False\n",
       "Length: 20507, dtype: bool"
      ]
     },
     "execution_count": 5,
     "metadata": {},
     "output_type": "execute_result"
    }
   ],
   "source": [
    "df.duplicated()\n",
    "#duplicates found;\n",
    "#Over 11620 duplicates found\n",
    "#But before drop it, I checked sample duplicated data rows.sample duplicated data rows\n",
    "#The duplicated data is valid data, it means the customer bought more than one same items. So it will not be drop"
   ]
  },
  {
   "cell_type": "code",
   "execution_count": 6,
   "id": "0e568fe6",
   "metadata": {},
   "outputs": [
    {
     "data": {
      "text/plain": [
       "TransactionNo     int64\n",
       "Items            object\n",
       "DateTime         object\n",
       "Daypart          object\n",
       "DayType          object\n",
       "dtype: object"
      ]
     },
     "execution_count": 6,
     "metadata": {},
     "output_type": "execute_result"
    }
   ],
   "source": [
    "df.dtypes"
   ]
  },
  {
   "cell_type": "code",
   "execution_count": 7,
   "id": "f7902ce7",
   "metadata": {},
   "outputs": [
    {
     "data": {
      "text/html": [
       "<div>\n",
       "<style scoped>\n",
       "    .dataframe tbody tr th:only-of-type {\n",
       "        vertical-align: middle;\n",
       "    }\n",
       "\n",
       "    .dataframe tbody tr th {\n",
       "        vertical-align: top;\n",
       "    }\n",
       "\n",
       "    .dataframe thead th {\n",
       "        text-align: right;\n",
       "    }\n",
       "</style>\n",
       "<table border=\"1\" class=\"dataframe\">\n",
       "  <thead>\n",
       "    <tr style=\"text-align: right;\">\n",
       "      <th></th>\n",
       "      <th>TransactionNo</th>\n",
       "      <th>Items</th>\n",
       "      <th>DateTime</th>\n",
       "      <th>Daypart</th>\n",
       "      <th>DayType</th>\n",
       "      <th>Date</th>\n",
       "      <th>Time</th>\n",
       "    </tr>\n",
       "  </thead>\n",
       "  <tbody>\n",
       "    <tr>\n",
       "      <th>0</th>\n",
       "      <td>1</td>\n",
       "      <td>Bread</td>\n",
       "      <td>2016-10-30 09:58:11</td>\n",
       "      <td>Morning</td>\n",
       "      <td>Weekend</td>\n",
       "      <td>2016-10-30</td>\n",
       "      <td>09:58:11</td>\n",
       "    </tr>\n",
       "    <tr>\n",
       "      <th>1</th>\n",
       "      <td>2</td>\n",
       "      <td>Scandinavian</td>\n",
       "      <td>2016-10-30 10:05:34</td>\n",
       "      <td>Morning</td>\n",
       "      <td>Weekend</td>\n",
       "      <td>2016-10-30</td>\n",
       "      <td>10:05:34</td>\n",
       "    </tr>\n",
       "    <tr>\n",
       "      <th>2</th>\n",
       "      <td>2</td>\n",
       "      <td>Scandinavian</td>\n",
       "      <td>2016-10-30 10:05:34</td>\n",
       "      <td>Morning</td>\n",
       "      <td>Weekend</td>\n",
       "      <td>2016-10-30</td>\n",
       "      <td>10:05:34</td>\n",
       "    </tr>\n",
       "    <tr>\n",
       "      <th>3</th>\n",
       "      <td>3</td>\n",
       "      <td>Hot chocolate</td>\n",
       "      <td>2016-10-30 10:07:57</td>\n",
       "      <td>Morning</td>\n",
       "      <td>Weekend</td>\n",
       "      <td>2016-10-30</td>\n",
       "      <td>10:07:57</td>\n",
       "    </tr>\n",
       "    <tr>\n",
       "      <th>4</th>\n",
       "      <td>3</td>\n",
       "      <td>Jam</td>\n",
       "      <td>2016-10-30 10:07:57</td>\n",
       "      <td>Morning</td>\n",
       "      <td>Weekend</td>\n",
       "      <td>2016-10-30</td>\n",
       "      <td>10:07:57</td>\n",
       "    </tr>\n",
       "    <tr>\n",
       "      <th>...</th>\n",
       "      <td>...</td>\n",
       "      <td>...</td>\n",
       "      <td>...</td>\n",
       "      <td>...</td>\n",
       "      <td>...</td>\n",
       "      <td>...</td>\n",
       "      <td>...</td>\n",
       "    </tr>\n",
       "    <tr>\n",
       "      <th>20502</th>\n",
       "      <td>9682</td>\n",
       "      <td>Coffee</td>\n",
       "      <td>2017-09-04 14:32:58</td>\n",
       "      <td>Afternoon</td>\n",
       "      <td>Weekend</td>\n",
       "      <td>2017-09-04</td>\n",
       "      <td>14:32:58</td>\n",
       "    </tr>\n",
       "    <tr>\n",
       "      <th>20503</th>\n",
       "      <td>9682</td>\n",
       "      <td>Tea</td>\n",
       "      <td>2017-09-04 14:32:58</td>\n",
       "      <td>Afternoon</td>\n",
       "      <td>Weekend</td>\n",
       "      <td>2017-09-04</td>\n",
       "      <td>14:32:58</td>\n",
       "    </tr>\n",
       "    <tr>\n",
       "      <th>20504</th>\n",
       "      <td>9683</td>\n",
       "      <td>Coffee</td>\n",
       "      <td>2017-09-04 14:57:06</td>\n",
       "      <td>Afternoon</td>\n",
       "      <td>Weekend</td>\n",
       "      <td>2017-09-04</td>\n",
       "      <td>14:57:06</td>\n",
       "    </tr>\n",
       "    <tr>\n",
       "      <th>20505</th>\n",
       "      <td>9683</td>\n",
       "      <td>Pastry</td>\n",
       "      <td>2017-09-04 14:57:06</td>\n",
       "      <td>Afternoon</td>\n",
       "      <td>Weekend</td>\n",
       "      <td>2017-09-04</td>\n",
       "      <td>14:57:06</td>\n",
       "    </tr>\n",
       "    <tr>\n",
       "      <th>20506</th>\n",
       "      <td>9684</td>\n",
       "      <td>Smoothies</td>\n",
       "      <td>2017-09-04 15:04:24</td>\n",
       "      <td>Afternoon</td>\n",
       "      <td>Weekend</td>\n",
       "      <td>2017-09-04</td>\n",
       "      <td>15:04:24</td>\n",
       "    </tr>\n",
       "  </tbody>\n",
       "</table>\n",
       "<p>20507 rows × 7 columns</p>\n",
       "</div>"
      ],
      "text/plain": [
       "       TransactionNo          Items             DateTime    Daypart  DayType  \\\n",
       "0                  1          Bread  2016-10-30 09:58:11    Morning  Weekend   \n",
       "1                  2   Scandinavian  2016-10-30 10:05:34    Morning  Weekend   \n",
       "2                  2   Scandinavian  2016-10-30 10:05:34    Morning  Weekend   \n",
       "3                  3  Hot chocolate  2016-10-30 10:07:57    Morning  Weekend   \n",
       "4                  3            Jam  2016-10-30 10:07:57    Morning  Weekend   \n",
       "...              ...            ...                  ...        ...      ...   \n",
       "20502           9682         Coffee  2017-09-04 14:32:58  Afternoon  Weekend   \n",
       "20503           9682            Tea  2017-09-04 14:32:58  Afternoon  Weekend   \n",
       "20504           9683         Coffee  2017-09-04 14:57:06  Afternoon  Weekend   \n",
       "20505           9683         Pastry  2017-09-04 14:57:06  Afternoon  Weekend   \n",
       "20506           9684      Smoothies  2017-09-04 15:04:24  Afternoon  Weekend   \n",
       "\n",
       "             Date      Time  \n",
       "0      2016-10-30  09:58:11  \n",
       "1      2016-10-30  10:05:34  \n",
       "2      2016-10-30  10:05:34  \n",
       "3      2016-10-30  10:07:57  \n",
       "4      2016-10-30  10:07:57  \n",
       "...           ...       ...  \n",
       "20502  2017-09-04  14:32:58  \n",
       "20503  2017-09-04  14:32:58  \n",
       "20504  2017-09-04  14:57:06  \n",
       "20505  2017-09-04  14:57:06  \n",
       "20506  2017-09-04  15:04:24  \n",
       "\n",
       "[20507 rows x 7 columns]"
      ]
     },
     "execution_count": 7,
     "metadata": {},
     "output_type": "execute_result"
    }
   ],
   "source": [
    "#SPLIITING COLUMNS TO HAVE TIME COLUMN\n",
    "df[['Date','Time']]=df['DateTime'].str.split(' ',expand=True)\n",
    "df"
   ]
  },
  {
   "cell_type": "code",
   "execution_count": 8,
   "id": "811ed84b",
   "metadata": {},
   "outputs": [],
   "source": [
    "#Droping DateTime column\n",
    "df=df.drop('DateTime',axis=1)"
   ]
  },
  {
   "cell_type": "code",
   "execution_count": 9,
   "id": "e87fa30b",
   "metadata": {},
   "outputs": [],
   "source": [
    "#Converting Date time data type\n",
    "df['Date']=pd.to_datetime(df['Date'],format='%Y-%m-%d')"
   ]
  },
  {
   "cell_type": "code",
   "execution_count": 10,
   "id": "53e4747f",
   "metadata": {},
   "outputs": [],
   "source": [
    "#Creating column for year and month\n",
    "df['Day_name'] = df['Date'].dt.day_name()\n",
    "df['Month_name'] = df['Date'].dt.month_name()\n",
    "df['year'] = df['Date'].dt.year"
   ]
  },
  {
   "cell_type": "code",
   "execution_count": 59,
   "id": "f1b259db",
   "metadata": {},
   "outputs": [],
   "source": [
    "#Droping DateTime column\n",
    "df=df.drop('Time',axis=1)\n"
   ]
  },
  {
   "cell_type": "code",
   "execution_count": 66,
   "id": "707b5c76",
   "metadata": {},
   "outputs": [
    {
     "data": {
      "text/html": [
       "<div>\n",
       "<style scoped>\n",
       "    .dataframe tbody tr th:only-of-type {\n",
       "        vertical-align: middle;\n",
       "    }\n",
       "\n",
       "    .dataframe tbody tr th {\n",
       "        vertical-align: top;\n",
       "    }\n",
       "\n",
       "    .dataframe thead th {\n",
       "        text-align: right;\n",
       "    }\n",
       "</style>\n",
       "<table border=\"1\" class=\"dataframe\">\n",
       "  <thead>\n",
       "    <tr style=\"text-align: right;\">\n",
       "      <th></th>\n",
       "      <th>TransactionNo</th>\n",
       "      <th>Items</th>\n",
       "      <th>Daypart</th>\n",
       "      <th>DayType</th>\n",
       "      <th>Date</th>\n",
       "      <th>Day_name</th>\n",
       "      <th>Month_name</th>\n",
       "      <th>year</th>\n",
       "      <th>Hour</th>\n",
       "    </tr>\n",
       "  </thead>\n",
       "  <tbody>\n",
       "    <tr>\n",
       "      <th>0</th>\n",
       "      <td>1</td>\n",
       "      <td>Bread</td>\n",
       "      <td>Morning</td>\n",
       "      <td>Weekend</td>\n",
       "      <td>2016-10-30</td>\n",
       "      <td>Sunday</td>\n",
       "      <td>October</td>\n",
       "      <td>2016</td>\n",
       "      <td>9</td>\n",
       "    </tr>\n",
       "    <tr>\n",
       "      <th>1</th>\n",
       "      <td>2</td>\n",
       "      <td>Scandinavian</td>\n",
       "      <td>Morning</td>\n",
       "      <td>Weekend</td>\n",
       "      <td>2016-10-30</td>\n",
       "      <td>Sunday</td>\n",
       "      <td>October</td>\n",
       "      <td>2016</td>\n",
       "      <td>10</td>\n",
       "    </tr>\n",
       "    <tr>\n",
       "      <th>2</th>\n",
       "      <td>2</td>\n",
       "      <td>Scandinavian</td>\n",
       "      <td>Morning</td>\n",
       "      <td>Weekend</td>\n",
       "      <td>2016-10-30</td>\n",
       "      <td>Sunday</td>\n",
       "      <td>October</td>\n",
       "      <td>2016</td>\n",
       "      <td>10</td>\n",
       "    </tr>\n",
       "    <tr>\n",
       "      <th>3</th>\n",
       "      <td>3</td>\n",
       "      <td>Hot chocolate</td>\n",
       "      <td>Morning</td>\n",
       "      <td>Weekend</td>\n",
       "      <td>2016-10-30</td>\n",
       "      <td>Sunday</td>\n",
       "      <td>October</td>\n",
       "      <td>2016</td>\n",
       "      <td>10</td>\n",
       "    </tr>\n",
       "    <tr>\n",
       "      <th>4</th>\n",
       "      <td>3</td>\n",
       "      <td>Jam</td>\n",
       "      <td>Morning</td>\n",
       "      <td>Weekend</td>\n",
       "      <td>2016-10-30</td>\n",
       "      <td>Sunday</td>\n",
       "      <td>October</td>\n",
       "      <td>2016</td>\n",
       "      <td>10</td>\n",
       "    </tr>\n",
       "    <tr>\n",
       "      <th>...</th>\n",
       "      <td>...</td>\n",
       "      <td>...</td>\n",
       "      <td>...</td>\n",
       "      <td>...</td>\n",
       "      <td>...</td>\n",
       "      <td>...</td>\n",
       "      <td>...</td>\n",
       "      <td>...</td>\n",
       "      <td>...</td>\n",
       "    </tr>\n",
       "    <tr>\n",
       "      <th>20502</th>\n",
       "      <td>9682</td>\n",
       "      <td>Coffee</td>\n",
       "      <td>Afternoon</td>\n",
       "      <td>Weekend</td>\n",
       "      <td>2017-09-04</td>\n",
       "      <td>Monday</td>\n",
       "      <td>September</td>\n",
       "      <td>2017</td>\n",
       "      <td>14</td>\n",
       "    </tr>\n",
       "    <tr>\n",
       "      <th>20503</th>\n",
       "      <td>9682</td>\n",
       "      <td>Tea</td>\n",
       "      <td>Afternoon</td>\n",
       "      <td>Weekend</td>\n",
       "      <td>2017-09-04</td>\n",
       "      <td>Monday</td>\n",
       "      <td>September</td>\n",
       "      <td>2017</td>\n",
       "      <td>14</td>\n",
       "    </tr>\n",
       "    <tr>\n",
       "      <th>20504</th>\n",
       "      <td>9683</td>\n",
       "      <td>Coffee</td>\n",
       "      <td>Afternoon</td>\n",
       "      <td>Weekend</td>\n",
       "      <td>2017-09-04</td>\n",
       "      <td>Monday</td>\n",
       "      <td>September</td>\n",
       "      <td>2017</td>\n",
       "      <td>14</td>\n",
       "    </tr>\n",
       "    <tr>\n",
       "      <th>20505</th>\n",
       "      <td>9683</td>\n",
       "      <td>Pastry</td>\n",
       "      <td>Afternoon</td>\n",
       "      <td>Weekend</td>\n",
       "      <td>2017-09-04</td>\n",
       "      <td>Monday</td>\n",
       "      <td>September</td>\n",
       "      <td>2017</td>\n",
       "      <td>14</td>\n",
       "    </tr>\n",
       "    <tr>\n",
       "      <th>20506</th>\n",
       "      <td>9684</td>\n",
       "      <td>Smoothies</td>\n",
       "      <td>Afternoon</td>\n",
       "      <td>Weekend</td>\n",
       "      <td>2017-09-04</td>\n",
       "      <td>Monday</td>\n",
       "      <td>September</td>\n",
       "      <td>2017</td>\n",
       "      <td>15</td>\n",
       "    </tr>\n",
       "  </tbody>\n",
       "</table>\n",
       "<p>20507 rows × 9 columns</p>\n",
       "</div>"
      ],
      "text/plain": [
       "       TransactionNo          Items    Daypart  DayType       Date Day_name  \\\n",
       "0                  1          Bread    Morning  Weekend 2016-10-30   Sunday   \n",
       "1                  2   Scandinavian    Morning  Weekend 2016-10-30   Sunday   \n",
       "2                  2   Scandinavian    Morning  Weekend 2016-10-30   Sunday   \n",
       "3                  3  Hot chocolate    Morning  Weekend 2016-10-30   Sunday   \n",
       "4                  3            Jam    Morning  Weekend 2016-10-30   Sunday   \n",
       "...              ...            ...        ...      ...        ...      ...   \n",
       "20502           9682         Coffee  Afternoon  Weekend 2017-09-04   Monday   \n",
       "20503           9682            Tea  Afternoon  Weekend 2017-09-04   Monday   \n",
       "20504           9683         Coffee  Afternoon  Weekend 2017-09-04   Monday   \n",
       "20505           9683         Pastry  Afternoon  Weekend 2017-09-04   Monday   \n",
       "20506           9684      Smoothies  Afternoon  Weekend 2017-09-04   Monday   \n",
       "\n",
       "      Month_name  year  Hour  \n",
       "0        October  2016     9  \n",
       "1        October  2016    10  \n",
       "2        October  2016    10  \n",
       "3        October  2016    10  \n",
       "4        October  2016    10  \n",
       "...          ...   ...   ...  \n",
       "20502  September  2017    14  \n",
       "20503  September  2017    14  \n",
       "20504  September  2017    14  \n",
       "20505  September  2017    14  \n",
       "20506  September  2017    15  \n",
       "\n",
       "[20507 rows x 9 columns]"
      ]
     },
     "execution_count": 66,
     "metadata": {},
     "output_type": "execute_result"
    }
   ],
   "source": [
    "df"
   ]
  },
  {
   "cell_type": "markdown",
   "id": "99d7d795",
   "metadata": {},
   "source": [
    "# EXOLORATION"
   ]
  },
  {
   "cell_type": "code",
   "execution_count": 48,
   "id": "559b2cad",
   "metadata": {},
   "outputs": [
    {
     "data": {
      "text/plain": [
       "<seaborn.axisgrid.FacetGrid at 0x266171a17d0>"
      ]
     },
     "execution_count": 48,
     "metadata": {},
     "output_type": "execute_result"
    },
    {
     "data": {
      "image/png": "[encoded data removed]",
      "text/plain": [
       "<Figure size 800x400 with 2 Axes>"
      ]
     },
     "metadata": {},
     "output_type": "display_data"
    },
    {
     "data": {
      "image/png": "[encoded data removed]",
      "text/plain": [
       "<Figure size 800x400 with 2 Axes>"
      ]
     },
     "metadata": {},
     "output_type": "display_data"
    }
   ],
   "source": [
    "#Best selling products (top5)and (bottom 5)across the years\n",
    "sns.catplot(kind='count',data=df,col='year',\n",
    "            x='Items',order=df.Items.value_counts().iloc[:5].index,palette='Blues_d',hue='year',height=4)\n",
    "sns.catplot(kind='count',data=df,col='year',\n",
    "            x='Items',order=df.Items.value_counts(ascending=True).iloc[:5].index,palette='Blues_d',hue='year',height=4)\n"
   ]
  },
  {
   "cell_type": "code",
   "execution_count": 12,
   "id": "0b69e57b",
   "metadata": {},
   "outputs": [
    {
     "data": {
      "text/plain": [
       "<seaborn.axisgrid.FacetGrid at 0x266119ebe10>"
      ]
     },
     "execution_count": 12,
     "metadata": {},
     "output_type": "execute_result"
    },
    {
     "data": {
      "image/png": "[encoded data removed]",
      "text/plain": [
       "<Figure size 613.75x500 with 1 Axes>"
      ]
     },
     "metadata": {},
     "output_type": "display_data"
    }
   ],
   "source": [
    "#Best selling item across the DayType\n",
    "sns.catplot(kind='count',data=df,\n",
    "            x='Items',order=df.Items.value_counts().iloc[:5].index,palette='Blues_d',hue='DayType')"
   ]
  },
  {
   "cell_type": "code",
   "execution_count": 49,
   "id": "f686849c",
   "metadata": {},
   "outputs": [
    {
     "data": {
      "text/plain": [
       "(array([0, 1, 2, 3, 4, 5, 6]),\n",
       " [Text(0, 0, 'Sunday'),\n",
       "  Text(1, 0, 'Monday'),\n",
       "  Text(2, 0, 'Thursday'),\n",
       "  Text(3, 0, 'Friday'),\n",
       "  Text(4, 0, 'Wednesday'),\n",
       "  Text(5, 0, 'Saturday'),\n",
       "  Text(6, 0, 'Tuesday')])"
      ]
     },
     "execution_count": 49,
     "metadata": {},
     "output_type": "execute_result"
    },
    {
     "data": {
      "image/png": "[encoded data removed]",
      "text/plain": [
       "<Figure size 400x400 with 1 Axes>"
      ]
     },
     "metadata": {},
     "output_type": "display_data"
    }
   ],
   "source": [
    "#Best selling items across the Day_name\n",
    "sns.catplot(kind='count',data=df,\n",
    "            x='Day_name',palette='Blues_d', height=4)\n",
    "plt.xticks(rotation=45)"
   ]
  },
  {
   "cell_type": "code",
   "execution_count": 68,
   "id": "2caeb930",
   "metadata": {},
   "outputs": [
    {
     "data": {
      "text/plain": [
       "<seaborn.axisgrid.FacetGrid at 0x2662968e750>"
      ]
     },
     "execution_count": 68,
     "metadata": {},
     "output_type": "execute_result"
    },
    {
     "data": {
      "image/png": "[encoded data removed]",
      "text/plain": [
       "<Figure size 500x500 with 1 Axes>"
      ]
     },
     "metadata": {},
     "output_type": "display_data"
    },
    {
     "data": {
      "image/png": "[encoded data removed]",
      "text/plain": [
       "<Figure size 500x500 with 1 Axes>"
      ]
     },
     "metadata": {},
     "output_type": "display_data"
    }
   ],
   "source": [
    "#Best selling time of the day\n",
    "sns.catplot(kind='count',data=df,\n",
    "            x='Daypart',hue='Daypart')\n",
    "sns.catplot(kind='count',data=df,\n",
    "            x='Hour',palette='Blues_d',hue='Hour')"
   ]
  },
  {
   "cell_type": "code",
   "execution_count": 64,
   "id": "3cb575df",
   "metadata": {},
   "outputs": [
    {
     "data": {
      "text/plain": [
       "<seaborn.axisgrid.FacetGrid at 0x26627430c50>"
      ]
     },
     "execution_count": 64,
     "metadata": {},
     "output_type": "execute_result"
    },
    {
     "data": {
      "image/png": "[encoded data removed]",
      "text/plain": [
       "<Figure size 1685.5x400 with 4 Axes>"
      ]
     },
     "metadata": {},
     "output_type": "display_data"
    }
   ],
   "source": [
    "sns.catplot(kind='count',data=df,col='Daypart',\n",
    "            x='Items',order=df.Items.value_counts().iloc[:5].index,palette='Blues_d',hue='year',height=4)\n"
   ]
  },
  {
   "cell_type": "markdown",
   "id": "681c6fc3",
   "metadata": {},
   "source": [
    "# CONCLUSION"
   ]
  },
  {
   "cell_type": "markdown",
   "id": "4ba9687b",
   "metadata": {},
   "source": [
    "The shift in popularity from pastry to cake between 2016 and 2017 suggests changing consumer preferences. \n",
    "Analyzing factors influencing this shift, such as marketing strategies or product innovations, could provide valuable insights \n",
    "for product development or targeted promotions; The consistently low sales for items like Beacon, Chicken, Polenta, \n",
    "and The Bat across 2016 and 2017 may suggest these items are not popular or have limited demand. However, the slight sales\n",
    "for Gift Voucher in both years could indicate occasional interest\n",
    "\n",
    "The higher sales of coffee, bread, tea items, cake, and pastries on weekdays may indicate a strong correlation with weekday\n",
    "routines. Understanding the specific times of these sales could guide marketing efforts, promotions, and inventory management\n",
    "to align with customer behavior during the weekdays.\n",
    "\n",
    "The transaction pattern indicates a peak in the afternoon, particularly between 10 o'clock and 1 o'clock. \n",
    "This suggests that customers prefer purchasing these products during mid-morning and early afternoon hours.\n",
    "Adjusting marketing strategies and promotions to target this time frame could potentially maximize sales.\n",
    "Additionally, recognizing the lower sales at night might guide decisions related to staffing, inventory management.\n",
    "The shift in sales transaction from pastry being higher in the morning to tea and cake being more popular in the afternoon \n",
    "suggests a potential variation in consumer preferences during different times of the day. \n",
    "\n",
    "Understanding these patterns allows for more targeted and effective business decisions."
   ]
  }
 ],
 "metadata": {
  "kernelspec": {
   "display_name": "Python 3 (ipykernel)",
   "language": "python",
   "name": "python3"
  },
  "language_info": {
   "codemirror_mode": {
    "name": "ipython",
    "version": 3
   },
   "file_extension": ".py",
   "mimetype": "text/x-python",
   "name": "python",
   "nbconvert_exporter": "python",
   "pygments_lexer": "ipython3",
   "version": "3.11.5"
  }
 },
 "nbformat": 4,
 "nbformat_minor": 5
}
