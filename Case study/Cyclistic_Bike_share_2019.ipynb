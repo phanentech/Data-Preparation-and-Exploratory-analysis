{
 "cells": [
  {
   "cell_type": "markdown",
   "id": "1bd7b0bf",
   "metadata": {},
   "source": [
    "# Google Analytics case study;Cyclistic bike share\n"
   ]
  },
  {
   "cell_type": "markdown",
   "id": "8868af4e",
   "metadata": {},
   "source": [
    "Scenario\n",
    "As a junior data analyst working in the marketing analyst team at Cyclistic, a bike-share company in Chicago. The director of marketing believes the company’s future success depends on maximizing the number of annual memberships. Therefore, my team wants to understand how casual riders and annual members use Cyclistic bikes differently. From these insights, my team will design a new marketing strategy to convert casual riders into annual members. But first, Cyclistic executives must approve your recommendations, so they must be backed up with compelling data insights and professional data visualizations."
   ]
  },
  {
   "cell_type": "code",
   "execution_count": null,
   "id": "7d8169ed",
   "metadata": {},
   "outputs": [],
   "source": [
    "import pandas as pd\n",
    "import seaborn as sns\n",
    "import matplotlib.pyplot as plt\n",
    "import warnings\n",
    "warnings.filterwarnings('ignore')\n",
    "\n",
    "\n",
    "# Corrected file path\n",
    "excel_file_path = 'C:\\\\Users\\\\HP\\\\Downloads\\\\Case\\\\Divvy_Trips_2019_Q1.xlsx'\n",
    "\n",
    "# Read all sheets into a dictionary of DataFrames\n",
    "all_sheets = pd.read_excel(excel_file_path, sheet_name=None)\n",
    "\n",
    "# Concatenate the DataFrames from all sheets into one DataFrame\n",
    "combined_df = pd.concat(all_sheets.values(), ignore_index=True)\n"
   ]
  },
  {
   "cell_type": "code",
   "execution_count": null,
   "id": "56b5f7f4",
   "metadata": {},
   "outputs": [],
   "source": [
    "combined_df"
   ]
  },
  {
   "cell_type": "markdown",
   "id": "ed9fcfa1",
   "metadata": {},
   "source": [
    "# DATA CLEANING PROCESS"
   ]
  },
  {
   "cell_type": "code",
   "execution_count": 2,
   "id": "944b7757",
   "metadata": {},
   "outputs": [
    {
     "data": {
      "text/plain": [
       "(3166273, 12)"
      ]
     },
     "execution_count": 2,
     "metadata": {},
     "output_type": "execute_result"
    }
   ],
   "source": [
    "combined_df.shape"
   ]
  },
  {
   "cell_type": "code",
   "execution_count": 3,
   "id": "a6a15146",
   "metadata": {},
   "outputs": [
    {
     "data": {
      "text/plain": [
       "trip_id                       int64\n",
       "start_time           datetime64[ns]\n",
       "end_time             datetime64[ns]\n",
       "bikeid                        int64\n",
       "tripduration                  int64\n",
       "from_station_id               int64\n",
       "from_station_name            object\n",
       "to_station_id                 int64\n",
       "to_station_name              object\n",
       "usertype                     object\n",
       "gender                       object\n",
       "birthyear                   float64\n",
       "dtype: object"
      ]
     },
     "execution_count": 3,
     "metadata": {},
     "output_type": "execute_result"
    }
   ],
   "source": [
    "combined_df.dtypes"
   ]
  },
  {
   "cell_type": "code",
   "execution_count": 2,
   "id": "ce5333f4",
   "metadata": {},
   "outputs": [
    {
     "data": {
      "text/plain": [
       "trip_id                   0\n",
       "start_time                0\n",
       "end_time                  0\n",
       "bikeid                    0\n",
       "tripduration              0\n",
       "from_station_id           0\n",
       "from_station_name         0\n",
       "to_station_id             0\n",
       "to_station_name           0\n",
       "usertype                  0\n",
       "gender               450826\n",
       "birthyear            434079\n",
       "dtype: int64"
      ]
     },
     "execution_count": 2,
     "metadata": {},
     "output_type": "execute_result"
    }
   ],
   "source": [
    "#Checking for missing values\n",
    "combined_df.isnull().sum()"
   ]
  },
  {
   "cell_type": "code",
   "execution_count": 3,
   "id": "58644849",
   "metadata": {},
   "outputs": [],
   "source": [
    "#Filling missing values with the mode (most frequent)\n",
    "combined_df['gender'].fillna(combined_df['gender'].mode()[0], inplace=True)"
   ]
  },
  {
   "cell_type": "code",
   "execution_count": 4,
   "id": "8777132a",
   "metadata": {},
   "outputs": [],
   "source": [
    "#Filling missing values with the median\n",
    "median_birth_year = combined_df['birthyear'].median()\n",
    "combined_df['birthyear'].fillna(median_birth_year, inplace=True)\n"
   ]
  },
  {
   "cell_type": "code",
   "execution_count": 5,
   "id": "cd09c6ab",
   "metadata": {},
   "outputs": [
    {
     "data": {
      "text/plain": [
       "trip_id              0\n",
       "start_time           0\n",
       "end_time             0\n",
       "bikeid               0\n",
       "tripduration         0\n",
       "from_station_id      0\n",
       "from_station_name    0\n",
       "to_station_id        0\n",
       "to_station_name      0\n",
       "usertype             0\n",
       "gender               0\n",
       "birthyear            0\n",
       "dtype: int64"
      ]
     },
     "execution_count": 5,
     "metadata": {},
     "output_type": "execute_result"
    }
   ],
   "source": [
    "combined_df.isnull().sum()"
   ]
  },
  {
   "cell_type": "code",
   "execution_count": 6,
   "id": "016396aa",
   "metadata": {},
   "outputs": [
    {
     "data": {
      "text/plain": [
       "0"
      ]
     },
     "execution_count": 6,
     "metadata": {},
     "output_type": "execute_result"
    }
   ],
   "source": [
    "combined_df.duplicated().sum()"
   ]
  },
  {
   "cell_type": "markdown",
   "id": "43137abd",
   "metadata": {},
   "source": [
    "# DATA MODIFICATION"
   ]
  },
  {
   "cell_type": "code",
   "execution_count": 43,
   "id": "3903a976",
   "metadata": {},
   "outputs": [],
   "source": [
    "#cREATING NEW COLUMN RIDE LENGTH\n",
    "combined_df['ride_length']=abs(combined_df['end_time']-combined_df['start_time'])\n",
    "combined_df['day_of_week'] = (combined_df['start_time'].dt.dayofweek+ 2) % 7\n",
    "combined_df['start_month']= combined_df['start_time'].dt.month_name()\n",
    "combined_df['End_month']= combined_df['end_time'].dt.month_name()\n",
    "combined_df['start_day']= combined_df['start_time'].dt.day_name()"
   ]
  },
  {
   "cell_type": "code",
   "execution_count": 44,
   "id": "ecaca1ac",
   "metadata": {},
   "outputs": [
    {
     "data": {
      "text/html": [
       "<div>\n",
       "<style scoped>\n",
       "    .dataframe tbody tr th:only-of-type {\n",
       "        vertical-align: middle;\n",
       "    }\n",
       "\n",
       "    .dataframe tbody tr th {\n",
       "        vertical-align: top;\n",
       "    }\n",
       "\n",
       "    .dataframe thead th {\n",
       "        text-align: right;\n",
       "    }\n",
       "</style>\n",
       "<table border=\"1\" class=\"dataframe\">\n",
       "  <thead>\n",
       "    <tr style=\"text-align: right;\">\n",
       "      <th></th>\n",
       "      <th>trip_id</th>\n",
       "      <th>start_time</th>\n",
       "      <th>end_time</th>\n",
       "      <th>bikeid</th>\n",
       "      <th>tripduration</th>\n",
       "      <th>from_station_id</th>\n",
       "      <th>from_station_name</th>\n",
       "      <th>to_station_id</th>\n",
       "      <th>to_station_name</th>\n",
       "      <th>usertype</th>\n",
       "      <th>gender</th>\n",
       "      <th>birthyear</th>\n",
       "      <th>ride_length</th>\n",
       "      <th>day_of_week</th>\n",
       "      <th>start_month</th>\n",
       "      <th>End_month</th>\n",
       "      <th>quarter</th>\n",
       "      <th>start_day</th>\n",
       "    </tr>\n",
       "  </thead>\n",
       "  <tbody>\n",
       "    <tr>\n",
       "      <th>0</th>\n",
       "      <td>21742443</td>\n",
       "      <td>2019-01-01 00:04:37</td>\n",
       "      <td>2019-01-01 00:11:07</td>\n",
       "      <td>2167</td>\n",
       "      <td>390</td>\n",
       "      <td>199</td>\n",
       "      <td>Wabash Ave &amp; Grand Ave</td>\n",
       "      <td>84</td>\n",
       "      <td>Milwaukee Ave &amp; Grand Ave</td>\n",
       "      <td>Subscriber</td>\n",
       "      <td>Male</td>\n",
       "      <td>1989.0</td>\n",
       "      <td>0 days 00:06:30</td>\n",
       "      <td>3</td>\n",
       "      <td>January</td>\n",
       "      <td>January</td>\n",
       "      <td>2019Q1</td>\n",
       "      <td>Tuesday</td>\n",
       "    </tr>\n",
       "    <tr>\n",
       "      <th>1</th>\n",
       "      <td>21742444</td>\n",
       "      <td>2019-01-01 00:08:13</td>\n",
       "      <td>2019-01-01 00:15:34</td>\n",
       "      <td>4386</td>\n",
       "      <td>441</td>\n",
       "      <td>44</td>\n",
       "      <td>State St &amp; Randolph St</td>\n",
       "      <td>624</td>\n",
       "      <td>Dearborn St &amp; Van Buren St (*)</td>\n",
       "      <td>Subscriber</td>\n",
       "      <td>Female</td>\n",
       "      <td>1990.0</td>\n",
       "      <td>0 days 00:07:21</td>\n",
       "      <td>3</td>\n",
       "      <td>January</td>\n",
       "      <td>January</td>\n",
       "      <td>2019Q1</td>\n",
       "      <td>Tuesday</td>\n",
       "    </tr>\n",
       "    <tr>\n",
       "      <th>2</th>\n",
       "      <td>21742445</td>\n",
       "      <td>2019-01-01 00:13:23</td>\n",
       "      <td>2019-01-01 00:27:12</td>\n",
       "      <td>1524</td>\n",
       "      <td>829</td>\n",
       "      <td>15</td>\n",
       "      <td>Racine Ave &amp; 18th St</td>\n",
       "      <td>644</td>\n",
       "      <td>Western Ave &amp; Fillmore St (*)</td>\n",
       "      <td>Subscriber</td>\n",
       "      <td>Female</td>\n",
       "      <td>1994.0</td>\n",
       "      <td>0 days 00:13:49</td>\n",
       "      <td>3</td>\n",
       "      <td>January</td>\n",
       "      <td>January</td>\n",
       "      <td>2019Q1</td>\n",
       "      <td>Tuesday</td>\n",
       "    </tr>\n",
       "    <tr>\n",
       "      <th>3</th>\n",
       "      <td>21742446</td>\n",
       "      <td>2019-01-01 00:13:45</td>\n",
       "      <td>2019-01-01 00:43:28</td>\n",
       "      <td>252</td>\n",
       "      <td>1783</td>\n",
       "      <td>123</td>\n",
       "      <td>California Ave &amp; Milwaukee Ave</td>\n",
       "      <td>176</td>\n",
       "      <td>Clark St &amp; Elm St</td>\n",
       "      <td>Subscriber</td>\n",
       "      <td>Male</td>\n",
       "      <td>1993.0</td>\n",
       "      <td>0 days 00:29:43</td>\n",
       "      <td>3</td>\n",
       "      <td>January</td>\n",
       "      <td>January</td>\n",
       "      <td>2019Q1</td>\n",
       "      <td>Tuesday</td>\n",
       "    </tr>\n",
       "    <tr>\n",
       "      <th>4</th>\n",
       "      <td>21742447</td>\n",
       "      <td>2019-01-01 00:14:52</td>\n",
       "      <td>2019-01-01 00:20:56</td>\n",
       "      <td>1170</td>\n",
       "      <td>364</td>\n",
       "      <td>173</td>\n",
       "      <td>Mies van der Rohe Way &amp; Chicago Ave</td>\n",
       "      <td>35</td>\n",
       "      <td>Streeter Dr &amp; Grand Ave</td>\n",
       "      <td>Subscriber</td>\n",
       "      <td>Male</td>\n",
       "      <td>1994.0</td>\n",
       "      <td>0 days 00:06:04</td>\n",
       "      <td>3</td>\n",
       "      <td>January</td>\n",
       "      <td>January</td>\n",
       "      <td>2019Q1</td>\n",
       "      <td>Tuesday</td>\n",
       "    </tr>\n",
       "    <tr>\n",
       "      <th>...</th>\n",
       "      <td>...</td>\n",
       "      <td>...</td>\n",
       "      <td>...</td>\n",
       "      <td>...</td>\n",
       "      <td>...</td>\n",
       "      <td>...</td>\n",
       "      <td>...</td>\n",
       "      <td>...</td>\n",
       "      <td>...</td>\n",
       "      <td>...</td>\n",
       "      <td>...</td>\n",
       "      <td>...</td>\n",
       "      <td>...</td>\n",
       "      <td>...</td>\n",
       "      <td>...</td>\n",
       "      <td>...</td>\n",
       "      <td>...</td>\n",
       "      <td>...</td>\n",
       "    </tr>\n",
       "    <tr>\n",
       "      <th>3166268</th>\n",
       "      <td>25962900</td>\n",
       "      <td>2019-12-31 23:56:13</td>\n",
       "      <td>2020-01-01 00:15:45</td>\n",
       "      <td>2196</td>\n",
       "      <td>1172</td>\n",
       "      <td>112</td>\n",
       "      <td>Green St &amp; Randolph St</td>\n",
       "      <td>225</td>\n",
       "      <td>Halsted St &amp; Dickens Ave</td>\n",
       "      <td>Subscriber</td>\n",
       "      <td>Male</td>\n",
       "      <td>1981.0</td>\n",
       "      <td>0 days 00:19:32</td>\n",
       "      <td>3</td>\n",
       "      <td>December</td>\n",
       "      <td>January</td>\n",
       "      <td>2019Q4</td>\n",
       "      <td>Tuesday</td>\n",
       "    </tr>\n",
       "    <tr>\n",
       "      <th>3166269</th>\n",
       "      <td>25962901</td>\n",
       "      <td>2019-12-31 23:56:34</td>\n",
       "      <td>2020-01-01 00:22:08</td>\n",
       "      <td>4877</td>\n",
       "      <td>1533</td>\n",
       "      <td>90</td>\n",
       "      <td>Millennium Park</td>\n",
       "      <td>90</td>\n",
       "      <td>Millennium Park</td>\n",
       "      <td>Subscriber</td>\n",
       "      <td>Male</td>\n",
       "      <td>1992.0</td>\n",
       "      <td>0 days 00:25:34</td>\n",
       "      <td>3</td>\n",
       "      <td>December</td>\n",
       "      <td>January</td>\n",
       "      <td>2019Q4</td>\n",
       "      <td>Tuesday</td>\n",
       "    </tr>\n",
       "    <tr>\n",
       "      <th>3166270</th>\n",
       "      <td>25962902</td>\n",
       "      <td>2019-12-31 23:57:05</td>\n",
       "      <td>2020-01-01 00:05:46</td>\n",
       "      <td>863</td>\n",
       "      <td>520</td>\n",
       "      <td>623</td>\n",
       "      <td>Michigan Ave &amp; 8th St</td>\n",
       "      <td>52</td>\n",
       "      <td>Michigan Ave &amp; Lake St</td>\n",
       "      <td>Subscriber</td>\n",
       "      <td>Male</td>\n",
       "      <td>1967.0</td>\n",
       "      <td>0 days 00:08:41</td>\n",
       "      <td>3</td>\n",
       "      <td>December</td>\n",
       "      <td>January</td>\n",
       "      <td>2019Q4</td>\n",
       "      <td>Tuesday</td>\n",
       "    </tr>\n",
       "    <tr>\n",
       "      <th>3166271</th>\n",
       "      <td>25962903</td>\n",
       "      <td>2019-12-31 23:57:11</td>\n",
       "      <td>2020-01-01 00:05:45</td>\n",
       "      <td>2637</td>\n",
       "      <td>514</td>\n",
       "      <td>623</td>\n",
       "      <td>Michigan Ave &amp; 8th St</td>\n",
       "      <td>52</td>\n",
       "      <td>Michigan Ave &amp; Lake St</td>\n",
       "      <td>Subscriber</td>\n",
       "      <td>Female</td>\n",
       "      <td>1970.0</td>\n",
       "      <td>0 days 00:08:34</td>\n",
       "      <td>3</td>\n",
       "      <td>December</td>\n",
       "      <td>January</td>\n",
       "      <td>2019Q4</td>\n",
       "      <td>Tuesday</td>\n",
       "    </tr>\n",
       "    <tr>\n",
       "      <th>3166272</th>\n",
       "      <td>25962904</td>\n",
       "      <td>2019-12-31 23:57:17</td>\n",
       "      <td>2019-12-31 23:59:18</td>\n",
       "      <td>5930</td>\n",
       "      <td>120</td>\n",
       "      <td>256</td>\n",
       "      <td>Broadway &amp; Sheridan Rd</td>\n",
       "      <td>240</td>\n",
       "      <td>Sheridan Rd &amp; Irving Park Rd</td>\n",
       "      <td>Subscriber</td>\n",
       "      <td>Male</td>\n",
       "      <td>1982.0</td>\n",
       "      <td>0 days 00:02:01</td>\n",
       "      <td>3</td>\n",
       "      <td>December</td>\n",
       "      <td>December</td>\n",
       "      <td>2019Q4</td>\n",
       "      <td>Tuesday</td>\n",
       "    </tr>\n",
       "  </tbody>\n",
       "</table>\n",
       "<p>3166273 rows × 18 columns</p>\n",
       "</div>"
      ],
      "text/plain": [
       "          trip_id          start_time            end_time  bikeid  \\\n",
       "0        21742443 2019-01-01 00:04:37 2019-01-01 00:11:07    2167   \n",
       "1        21742444 2019-01-01 00:08:13 2019-01-01 00:15:34    4386   \n",
       "2        21742445 2019-01-01 00:13:23 2019-01-01 00:27:12    1524   \n",
       "3        21742446 2019-01-01 00:13:45 2019-01-01 00:43:28     252   \n",
       "4        21742447 2019-01-01 00:14:52 2019-01-01 00:20:56    1170   \n",
       "...           ...                 ...                 ...     ...   \n",
       "3166268  25962900 2019-12-31 23:56:13 2020-01-01 00:15:45    2196   \n",
       "3166269  25962901 2019-12-31 23:56:34 2020-01-01 00:22:08    4877   \n",
       "3166270  25962902 2019-12-31 23:57:05 2020-01-01 00:05:46     863   \n",
       "3166271  25962903 2019-12-31 23:57:11 2020-01-01 00:05:45    2637   \n",
       "3166272  25962904 2019-12-31 23:57:17 2019-12-31 23:59:18    5930   \n",
       "\n",
       "         tripduration  from_station_id                    from_station_name  \\\n",
       "0                 390              199               Wabash Ave & Grand Ave   \n",
       "1                 441               44               State St & Randolph St   \n",
       "2                 829               15                 Racine Ave & 18th St   \n",
       "3                1783              123       California Ave & Milwaukee Ave   \n",
       "4                 364              173  Mies van der Rohe Way & Chicago Ave   \n",
       "...               ...              ...                                  ...   \n",
       "3166268          1172              112               Green St & Randolph St   \n",
       "3166269          1533               90                      Millennium Park   \n",
       "3166270           520              623                Michigan Ave & 8th St   \n",
       "3166271           514              623                Michigan Ave & 8th St   \n",
       "3166272           120              256               Broadway & Sheridan Rd   \n",
       "\n",
       "         to_station_id                 to_station_name    usertype  gender  \\\n",
       "0                   84       Milwaukee Ave & Grand Ave  Subscriber    Male   \n",
       "1                  624  Dearborn St & Van Buren St (*)  Subscriber  Female   \n",
       "2                  644   Western Ave & Fillmore St (*)  Subscriber  Female   \n",
       "3                  176               Clark St & Elm St  Subscriber    Male   \n",
       "4                   35         Streeter Dr & Grand Ave  Subscriber    Male   \n",
       "...                ...                             ...         ...     ...   \n",
       "3166268            225        Halsted St & Dickens Ave  Subscriber    Male   \n",
       "3166269             90                 Millennium Park  Subscriber    Male   \n",
       "3166270             52          Michigan Ave & Lake St  Subscriber    Male   \n",
       "3166271             52          Michigan Ave & Lake St  Subscriber  Female   \n",
       "3166272            240    Sheridan Rd & Irving Park Rd  Subscriber    Male   \n",
       "\n",
       "         birthyear     ride_length  day_of_week start_month End_month quarter  \\\n",
       "0           1989.0 0 days 00:06:30            3     January   January  2019Q1   \n",
       "1           1990.0 0 days 00:07:21            3     January   January  2019Q1   \n",
       "2           1994.0 0 days 00:13:49            3     January   January  2019Q1   \n",
       "3           1993.0 0 days 00:29:43            3     January   January  2019Q1   \n",
       "4           1994.0 0 days 00:06:04            3     January   January  2019Q1   \n",
       "...            ...             ...          ...         ...       ...     ...   \n",
       "3166268     1981.0 0 days 00:19:32            3    December   January  2019Q4   \n",
       "3166269     1992.0 0 days 00:25:34            3    December   January  2019Q4   \n",
       "3166270     1967.0 0 days 00:08:41            3    December   January  2019Q4   \n",
       "3166271     1970.0 0 days 00:08:34            3    December   January  2019Q4   \n",
       "3166272     1982.0 0 days 00:02:01            3    December  December  2019Q4   \n",
       "\n",
       "        start_day  \n",
       "0         Tuesday  \n",
       "1         Tuesday  \n",
       "2         Tuesday  \n",
       "3         Tuesday  \n",
       "4         Tuesday  \n",
       "...           ...  \n",
       "3166268   Tuesday  \n",
       "3166269   Tuesday  \n",
       "3166270   Tuesday  \n",
       "3166271   Tuesday  \n",
       "3166272   Tuesday  \n",
       "\n",
       "[3166273 rows x 18 columns]"
      ]
     },
     "execution_count": 44,
     "metadata": {},
     "output_type": "execute_result"
    }
   ],
   "source": [
    "combined_df"
   ]
  },
  {
   "cell_type": "markdown",
   "id": "0f0f2e39",
   "metadata": {},
   "source": [
    "# DESCRIPTIVE ANALYSIS"
   ]
  },
  {
   "cell_type": "markdown",
   "id": "65d4bde4",
   "metadata": {},
   "source": [
    "Calculate the mean of ride_length\n",
    "\n",
    "Calculate the max ride_length\n",
    "\n",
    "Calculate the mode of day_of_week"
   ]
  },
  {
   "cell_type": "code",
   "execution_count": 11,
   "id": "22f3e0b5",
   "metadata": {},
   "outputs": [
    {
     "data": {
      "text/plain": [
       "Timedelta('0 days 00:24:00.971230528')"
      ]
     },
     "execution_count": 11,
     "metadata": {},
     "output_type": "execute_result"
    }
   ],
   "source": [
    "combined_df['ride_length'].mean()"
   ]
  },
  {
   "cell_type": "code",
   "execution_count": 25,
   "id": "588d011f",
   "metadata": {},
   "outputs": [
    {
     "data": {
      "text/plain": [
       "Timedelta('123 days 01:20:22')"
      ]
     },
     "execution_count": 25,
     "metadata": {},
     "output_type": "execute_result"
    }
   ],
   "source": [
    "combined_df['ride_length'].max()"
   ]
  },
  {
   "cell_type": "code",
   "execution_count": 24,
   "id": "ccb2a121",
   "metadata": {},
   "outputs": [
    {
     "data": {
      "text/plain": [
       "Timedelta('0 days 00:01:01')"
      ]
     },
     "execution_count": 24,
     "metadata": {},
     "output_type": "execute_result"
    }
   ],
   "source": [
    "combined_df['ride_length'].min()"
   ]
  },
  {
   "cell_type": "code",
   "execution_count": 13,
   "id": "eae82d6d",
   "metadata": {},
   "outputs": [
    {
     "data": {
      "text/plain": [
       "0   0 days 00:05:20\n",
       "Name: ride_length, dtype: timedelta64[ns]"
      ]
     },
     "execution_count": 13,
     "metadata": {},
     "output_type": "execute_result"
    }
   ],
   "source": [
    "combined_df['ride_length'].mode()"
   ]
  },
  {
   "cell_type": "markdown",
   "id": "82720e6f",
   "metadata": {},
   "source": [
    "# EXPLORATORY ANALYSIS"
   ]
  },
  {
   "cell_type": "code",
   "execution_count": 14,
   "id": "22d40747",
   "metadata": {},
   "outputs": [
    {
     "data": {
      "text/plain": [
       "to_station_id\n",
       "35     65296\n",
       "91     43192\n",
       "192    42997\n",
       "77     40278\n",
       "43     34399\n",
       "       ...  \n",
       "562        6\n",
       "361        5\n",
       "363        2\n",
       "1          1\n",
       "669        1\n",
       "Name: count, Length: 617, dtype: int64"
      ]
     },
     "execution_count": 14,
     "metadata": {},
     "output_type": "execute_result"
    }
   ],
   "source": [
    "#Total number of times used by each Start stations \n",
    "combined_df['to_station_id'].value_counts()"
   ]
  },
  {
   "cell_type": "code",
   "execution_count": 12,
   "id": "b027607e",
   "metadata": {},
   "outputs": [
    {
     "data": {
      "text/plain": [
       "6017"
      ]
     },
     "execution_count": 12,
     "metadata": {},
     "output_type": "execute_result"
    }
   ],
   "source": [
    "#Total number of bikes rented at 2019\n",
    "combined_df['bikeid'].nunique()"
   ]
  },
  {
   "cell_type": "code",
   "execution_count": 17,
   "id": "6f911eb8",
   "metadata": {},
   "outputs": [
    {
     "data": {
      "text/plain": [
       "usertype\n",
       "Customer      2455554440\n",
       "Subscriber    2106296728\n",
       "Name: tripduration, dtype: int64"
      ]
     },
     "execution_count": 17,
     "metadata": {},
     "output_type": "execute_result"
    }
   ],
   "source": [
    "#Sum of trips by user type\n",
    "combined_df.groupby('usertype')['tripduration'].sum()"
   ]
  },
  {
   "cell_type": "code",
   "execution_count": 30,
   "id": "5003f94e",
   "metadata": {},
   "outputs": [
    {
     "data": {
      "text/plain": [
       "usertype\n",
       "Subscriber    2465955\n",
       "Customer       700318\n",
       "Name: count, dtype: int64"
      ]
     },
     "execution_count": 30,
     "metadata": {},
     "output_type": "execute_result"
    }
   ],
   "source": [
    "combined_df['usertype'].value_counts()"
   ]
  },
  {
   "cell_type": "code",
   "execution_count": 13,
   "id": "69a1e495",
   "metadata": {},
   "outputs": [
    {
     "data": {
      "text/plain": [
       "640"
      ]
     },
     "execution_count": 13,
     "metadata": {},
     "output_type": "execute_result"
    }
   ],
   "source": [
    "#Number of from stations\n",
    "combined_df['from_station_name'].nunique()"
   ]
  },
  {
   "cell_type": "code",
   "execution_count": 16,
   "id": "849e65de",
   "metadata": {},
   "outputs": [
    {
     "data": {
      "text/plain": [
       "from_station_name\n",
       "Streeter Dr & Grand Ave         54077\n",
       "Canal St & Adams St             46119\n",
       "Clinton St & Madison St         42060\n",
       "Clinton St & Washington Blvd    41229\n",
       "Lake Shore Dr & Monroe St       40704\n",
       "Name: trip_id, dtype: int64"
      ]
     },
     "execution_count": 16,
     "metadata": {},
     "output_type": "execute_result"
    }
   ],
   "source": [
    "#Top 5 stations where riders started\n",
    "combined_df.groupby('from_station_name')['trip_id'].nunique().nlargest(5)"
   ]
  },
  {
   "cell_type": "code",
   "execution_count": 18,
   "id": "1888404d",
   "metadata": {},
   "outputs": [
    {
     "data": {
      "text/plain": [
       "from_station_name\n",
       "LBS - BBB La Magie                      1\n",
       "Special Events                          1\n",
       "DIVVY CASSETTE REPAIR MOBILE STATION    3\n",
       "Racine Ave & 65th St                    4\n",
       "Racine Ave & 61st St                    7\n",
       "Name: trip_id, dtype: int64"
      ]
     },
     "execution_count": 18,
     "metadata": {},
     "output_type": "execute_result"
    }
   ],
   "source": [
    "#Bottom 5 stations where riders started\n",
    "combined_df.groupby('from_station_name')['trip_id'].nunique().nsmallest(5)"
   ]
  },
  {
   "cell_type": "code",
   "execution_count": 17,
   "id": "cbfce55d",
   "metadata": {},
   "outputs": [
    {
     "data": {
      "text/plain": [
       "to_station_name\n",
       "Streeter Dr & Grand Ave         65296\n",
       "Clinton St & Washington Blvd    43192\n",
       "Canal St & Adams St             42997\n",
       "Clinton St & Madison St         40278\n",
       "Michigan Ave & Washington St    34399\n",
       "Name: trip_id, dtype: int64"
      ]
     },
     "execution_count": 17,
     "metadata": {},
     "output_type": "execute_result"
    }
   ],
   "source": [
    "#Top 5 stations where riders ended\n",
    "combined_df.groupby('to_station_name')['trip_id'].nunique().nlargest(5)"
   ]
  },
  {
   "cell_type": "code",
   "execution_count": 19,
   "id": "bd3388fe",
   "metadata": {},
   "outputs": [
    {
     "data": {
      "text/plain": [
       "to_station_name\n",
       "LBS - BBB La Magie                      1\n",
       "Special Events                          1\n",
       "TS ~ DIVVY PARTS TESTING                2\n",
       "DIVVY CASSETTE REPAIR MOBILE STATION    5\n",
       "Racine Ave & 61st St                    6\n",
       "Name: trip_id, dtype: int64"
      ]
     },
     "execution_count": 19,
     "metadata": {},
     "output_type": "execute_result"
    }
   ],
   "source": [
    "#Bottom 5 stations where riders ended\n",
    "combined_df.groupby('to_station_name')['trip_id'].nunique().nsmallest(5)"
   ]
  },
  {
   "cell_type": "code",
   "execution_count": 36,
   "id": "6543328e",
   "metadata": {},
   "outputs": [
    {
     "data": {
      "text/plain": [
       "quarter\n",
       "2019Q2    1048575\n",
       "2019Q3    1048575\n",
       "2019Q4     704054\n",
       "2019Q1     365069\n",
       "Freq: Q-DEC, Name: count, dtype: int64"
      ]
     },
     "execution_count": 36,
     "metadata": {},
     "output_type": "execute_result"
    }
   ],
   "source": [
    "#Total trip per quarter\n",
    "combined_df['quarter']=combined_df['start_time'].dt.to_period('Q')\n",
    "combined_df['quarter'].value_counts()"
   ]
  },
  {
   "cell_type": "code",
   "execution_count": 39,
   "id": "6988dfec",
   "metadata": {},
   "outputs": [
    {
     "data": {
      "text/plain": [
       "0    1987.0\n",
       "Name: birthyear, dtype: float64"
      ]
     },
     "execution_count": 39,
     "metadata": {},
     "output_type": "execute_result"
    }
   ],
   "source": [
    "#Most occuring age of users\n",
    "combined_df['birthyear'].mode()"
   ]
  },
  {
   "cell_type": "code",
   "execution_count": 42,
   "id": "a02330f8",
   "metadata": {},
   "outputs": [
    {
     "data": {
      "text/plain": [
       "start_month\n",
       "July        557315\n",
       "August      491260\n",
       "June        415807\n",
       "October     371786\n",
       "May         367458\n",
       "April       265310\n",
       "November    177176\n",
       "March       165611\n",
       "December    155092\n",
       "January     103272\n",
       "February     96186\n",
       "Name: trip_id, dtype: int64"
      ]
     },
     "execution_count": 42,
     "metadata": {},
     "output_type": "execute_result"
    }
   ],
   "source": [
    "#Busiest Month and days\n",
    "result=combined_df.groupby('start_month')['trip_id'].nunique()\n",
    "result.sort_values(ascending=False)"
   ]
  },
  {
   "cell_type": "code",
   "execution_count": 48,
   "id": "1ede6741",
   "metadata": {},
   "outputs": [
    {
     "data": {
      "text/plain": [
       "start_day  usertype  \n",
       "Tuesday    Subscriber    423379\n",
       "Wednesday  Subscriber    417095\n",
       "Thursday   Subscriber    405072\n",
       "Monday     Subscriber    388161\n",
       "Friday     Subscriber    381406\n",
       "Saturday   Subscriber    233311\n",
       "Sunday     Subscriber    217531\n",
       "Saturday   Customer      159998\n",
       "Sunday     Customer      139272\n",
       "Friday     Customer       97436\n",
       "Thursday   Customer       80882\n",
       "Monday     Customer       77444\n",
       "Wednesday  Customer       73026\n",
       "Tuesday    Customer       72260\n",
       "Name: trip_id, dtype: int64"
      ]
     },
     "execution_count": 48,
     "metadata": {},
     "output_type": "execute_result"
    }
   ],
   "source": [
    "result=combined_df.groupby(['start_day', 'usertype'])['trip_id'].nunique()\n",
    "result.sort_values(ascending=False)"
   ]
  },
  {
   "cell_type": "markdown",
   "id": "d417445d",
   "metadata": {},
   "source": [
    "# Recommendations"
   ]
  },
  {
   "cell_type": "markdown",
   "id": "ec6bfcbc",
   "metadata": {},
   "source": [
    "1. Seasonal Trends: Focus marketing efforts on promoting bike usage during Quarters 2 and 3, as these are peak seasons for rides.\n",
    "\n",
    "2. Station Optimization: Prioritize resources and promotions at Streeter Dr & Grand Ave, the busiest starting station, to meet the high demand.\n",
    "\n",
    "3. Ride Duration Strategies: Tailor promotions for subscribers emphasizing shorter, frequent trips. Consider incentives for longer rides to attract more customers.\n",
    "\n",
    "4. Day-Specific Marketing: Design targeted promotions for Saturdays to attract casual riders and consider special promotions on Tuesdays to engage annual members.\n",
    "\n",
    "5. User Demographics: Craft marketing campaigns targeting users born in 1987, the majority birth year. This could include personalized promotions or events appealing to this age group.\n",
    "\n",
    "In summary, tailor marketing strategies based on seasonal trends, station popularity, user ride behaviors, specific days of the week, and demographic information. This approach can enhance user engagement, attract new riders, and improve overall customer satisfaction."
   ]
  },
  {
   "cell_type": "code",
   "execution_count": null,
   "id": "c624e25c",
   "metadata": {},
   "outputs": [],
   "source": []
  }
 ],
 "metadata": {
  "kernelspec": {
   "display_name": "Python 3 (ipykernel)",
   "language": "python",
   "name": "python3"
  },
  "language_info": {
   "codemirror_mode": {
    "name": "ipython",
    "version": 3
   },
   "file_extension": ".py",
   "mimetype": "text/x-python",
   "name": "python",
   "nbconvert_exporter": "python",
   "pygments_lexer": "ipython3",
   "version": "3.11.5"
  }
 },
 "nbformat": 4,
 "nbformat_minor": 5
}
