{
 "cells": [
  {
   "cell_type": "markdown",
   "id": "60f1a199",
   "metadata": {},
   "source": [
    "# BIG BASKET-CUSTOMER ANALYTICS"
   ]
  },
  {
   "cell_type": "markdown",
   "id": "61fc6d41",
   "metadata": {},
   "source": [
    "BigBasket (registered as, Supermarket Grocery Supplies Pvt. Ltd.) is an Indian online grocery delivery service. The company primarily delivers grocery goods found in convenience stores, home essentials and food supplies to its customers. BigBasket was founded in December 2011 and has its headquarters in Bengaluru, India"
   ]
  },
  {
   "cell_type": "markdown",
   "id": "c52ae2b6",
   "metadata": {},
   "source": [
    "Customer analytics plays a crucial role in the success of BigBasket, the popular e-commerce platform specializing in the online grocery segment. By leveraging customer data and employing analytics techniques, BigBasket gains valuable insights into customer behavior, preferences, and patterns, enabling them to enhance the shopping experience and drive customer satisfaction.\n",
    "\n",
    "One key aspect of customer analytics for BigBasket is understanding customer preferences and purchase patterns. By analyzing data related to customer transactions, browsing history, and search queries, BigBasket can identify popular products, frequently purchased items, and emerging trends. This information helps them optimize their product offerings, stock inventory accordingly, and tailor personalized recommendations to individual customers. By suggesting relevant products based on customer preferences, BigBasket increases the likelihood of repeat purchases and customer loyalty.\n",
    "\n",
    "Customer analytics also helps BigBasket optimize their supply chain and logistics operations. By analyzing order patterns, delivery locations, and delivery timings, BigBasket can optimize their delivery routes, reduce delivery times, and ensure efficient order fulfillment. This leads to improved customer satisfaction and reinforces BigBasket's reputation for reliable and timely deliveries.\n",
    "\n",
    "Furthermore, customer analytics provides valuable insights for BigBasket's pricing strategies. By analyzing customer purchasing patterns, price sensitivity, and competitor pricing, BigBasket can optimize their pricing models to remain competitive while maximizing profitability. This ensures that customers perceive BigBasket as offering value for money, attracting more customers and boosting revenue."
   ]
  },
  {
   "cell_type": "markdown",
   "id": "0430b178",
   "metadata": {},
   "source": [
    "# PROCESSES"
   ]
  },
  {
   "cell_type": "code",
   "execution_count": 1,
   "id": "b3e5cf58",
   "metadata": {},
   "outputs": [],
   "source": [
    "#importing dataset\n",
    "import pandas as pd\n",
    "import seaborn as sns\n",
    "import matplotlib.pyplot as plt\n",
    "import warnings\n",
    "warnings.filterwarnings('ignore')"
   ]
  },
  {
   "cell_type": "code",
   "execution_count": 2,
   "id": "d213289c",
   "metadata": {},
   "outputs": [],
   "source": [
    "df= pd.read_csv(r'C:\\Users\\HP\\Downloads\\bigBasket.csv')"
   ]
  },
  {
   "cell_type": "markdown",
   "id": "f8051504",
   "metadata": {},
   "source": [
    "# Knowing and Cleaning Data"
   ]
  },
  {
   "cell_type": "code",
   "execution_count": 3,
   "id": "05826521",
   "metadata": {},
   "outputs": [
    {
     "data": {
      "text/html": [
       "<div>\n",
       "<style scoped>\n",
       "    .dataframe tbody tr th:only-of-type {\n",
       "        vertical-align: middle;\n",
       "    }\n",
       "\n",
       "    .dataframe tbody tr th {\n",
       "        vertical-align: top;\n",
       "    }\n",
       "\n",
       "    .dataframe thead th {\n",
       "        text-align: right;\n",
       "    }\n",
       "</style>\n",
       "<table border=\"1\" class=\"dataframe\">\n",
       "  <thead>\n",
       "    <tr style=\"text-align: right;\">\n",
       "      <th></th>\n",
       "      <th>Member</th>\n",
       "      <th>Order</th>\n",
       "      <th>SKU</th>\n",
       "      <th>Date</th>\n",
       "      <th>Time</th>\n",
       "      <th>Description</th>\n",
       "    </tr>\n",
       "  </thead>\n",
       "  <tbody>\n",
       "    <tr>\n",
       "      <th>0</th>\n",
       "      <td>M09736</td>\n",
       "      <td>6468572</td>\n",
       "      <td>34993740</td>\n",
       "      <td>22/09/2014</td>\n",
       "      <td>22:45:00</td>\n",
       "      <td>Other Sauces</td>\n",
       "    </tr>\n",
       "    <tr>\n",
       "      <th>1</th>\n",
       "      <td>M09736</td>\n",
       "      <td>6468572</td>\n",
       "      <td>15669800</td>\n",
       "      <td>22/09/2014</td>\n",
       "      <td>22:45:00</td>\n",
       "      <td>Cashews</td>\n",
       "    </tr>\n",
       "    <tr>\n",
       "      <th>2</th>\n",
       "      <td>M09736</td>\n",
       "      <td>6468572</td>\n",
       "      <td>34989501</td>\n",
       "      <td>22/09/2014</td>\n",
       "      <td>22:45:00</td>\n",
       "      <td>Other Dals</td>\n",
       "    </tr>\n",
       "    <tr>\n",
       "      <th>3</th>\n",
       "      <td>M09736</td>\n",
       "      <td>6468572</td>\n",
       "      <td>7572303</td>\n",
       "      <td>22/09/2014</td>\n",
       "      <td>22:45:00</td>\n",
       "      <td>Namkeen</td>\n",
       "    </tr>\n",
       "    <tr>\n",
       "      <th>4</th>\n",
       "      <td>M09736</td>\n",
       "      <td>6468572</td>\n",
       "      <td>15669856</td>\n",
       "      <td>22/09/2014</td>\n",
       "      <td>22:45:00</td>\n",
       "      <td>Sugar</td>\n",
       "    </tr>\n",
       "    <tr>\n",
       "      <th>...</th>\n",
       "      <td>...</td>\n",
       "      <td>...</td>\n",
       "      <td>...</td>\n",
       "      <td>...</td>\n",
       "      <td>...</td>\n",
       "      <td>...</td>\n",
       "    </tr>\n",
       "    <tr>\n",
       "      <th>62136</th>\n",
       "      <td>M64379</td>\n",
       "      <td>8381435</td>\n",
       "      <td>15670260</td>\n",
       "      <td>16/11/2013</td>\n",
       "      <td>00:43:00</td>\n",
       "      <td>Organic F&amp;V</td>\n",
       "    </tr>\n",
       "    <tr>\n",
       "      <th>62137</th>\n",
       "      <td>M64379</td>\n",
       "      <td>8381435</td>\n",
       "      <td>15668597</td>\n",
       "      <td>16/11/2013</td>\n",
       "      <td>00:43:00</td>\n",
       "      <td>Exotic Vegetables</td>\n",
       "    </tr>\n",
       "    <tr>\n",
       "      <th>62138</th>\n",
       "      <td>M64379</td>\n",
       "      <td>8381435</td>\n",
       "      <td>7570555</td>\n",
       "      <td>16/11/2013</td>\n",
       "      <td>00:43:00</td>\n",
       "      <td>Shoe Polish</td>\n",
       "    </tr>\n",
       "    <tr>\n",
       "      <th>62139</th>\n",
       "      <td>M64379</td>\n",
       "      <td>8381435</td>\n",
       "      <td>7587490</td>\n",
       "      <td>16/11/2013</td>\n",
       "      <td>00:43:00</td>\n",
       "      <td>Organic Dals &amp; Pulses</td>\n",
       "    </tr>\n",
       "    <tr>\n",
       "      <th>62140</th>\n",
       "      <td>M64379</td>\n",
       "      <td>8381435</td>\n",
       "      <td>15669830</td>\n",
       "      <td>16/11/2013</td>\n",
       "      <td>00:43:00</td>\n",
       "      <td>Other Rice Products</td>\n",
       "    </tr>\n",
       "  </tbody>\n",
       "</table>\n",
       "<p>62141 rows × 6 columns</p>\n",
       "</div>"
      ],
      "text/plain": [
       "       Member    Order       SKU        Date      Time            Description\n",
       "0      M09736  6468572  34993740  22/09/2014  22:45:00           Other Sauces\n",
       "1      M09736  6468572  15669800  22/09/2014  22:45:00                Cashews\n",
       "2      M09736  6468572  34989501  22/09/2014  22:45:00             Other Dals\n",
       "3      M09736  6468572   7572303  22/09/2014  22:45:00                Namkeen\n",
       "4      M09736  6468572  15669856  22/09/2014  22:45:00                  Sugar\n",
       "...       ...      ...       ...         ...       ...                    ...\n",
       "62136  M64379  8381435  15670260  16/11/2013  00:43:00            Organic F&V\n",
       "62137  M64379  8381435  15668597  16/11/2013  00:43:00      Exotic Vegetables\n",
       "62138  M64379  8381435   7570555  16/11/2013  00:43:00            Shoe Polish\n",
       "62139  M64379  8381435   7587490  16/11/2013  00:43:00  Organic Dals & Pulses\n",
       "62140  M64379  8381435  15669830  16/11/2013  00:43:00    Other Rice Products\n",
       "\n",
       "[62141 rows x 6 columns]"
      ]
     },
     "execution_count": 3,
     "metadata": {},
     "output_type": "execute_result"
    }
   ],
   "source": [
    "df"
   ]
  },
  {
   "cell_type": "code",
   "execution_count": 106,
   "id": "db2adf46",
   "metadata": {},
   "outputs": [
    {
     "data": {
      "text/plain": [
       "Member         0\n",
       "Order          0\n",
       "SKU            0\n",
       "Date           0\n",
       "Time           0\n",
       "Description    0\n",
       "dtype: int64"
      ]
     },
     "execution_count": 106,
     "metadata": {},
     "output_type": "execute_result"
    }
   ],
   "source": [
    "#Checking for null values and duplicates\n",
    "df.isnull().sum()"
   ]
  },
  {
   "cell_type": "code",
   "execution_count": 58,
   "id": "a9a42854",
   "metadata": {},
   "outputs": [
    {
     "data": {
      "text/plain": [
       "0"
      ]
     },
     "execution_count": 58,
     "metadata": {},
     "output_type": "execute_result"
    }
   ],
   "source": [
    "df.duplicated().sum()"
   ]
  },
  {
   "cell_type": "code",
   "execution_count": 94,
   "id": "0f4d1d04",
   "metadata": {},
   "outputs": [
    {
     "data": {
      "text/plain": [
       "Member         object\n",
       "Order           int64\n",
       "SKU             int64\n",
       "Date           object\n",
       "Time           object\n",
       "Description    object\n",
       "dtype: object"
      ]
     },
     "execution_count": 94,
     "metadata": {},
     "output_type": "execute_result"
    }
   ],
   "source": [
    "#Knowing data type\n",
    "df.dtypes"
   ]
  },
  {
   "cell_type": "code",
   "execution_count": 107,
   "id": "071d20cf",
   "metadata": {},
   "outputs": [],
   "source": [
    "#Converting data type of date from object to date\n",
    "df['Date']=pd.to_datetime(df['Date'])\n",
    "df['Time']=pd.to_datetime(df['Time'])"
   ]
  },
  {
   "cell_type": "code",
   "execution_count": 96,
   "id": "6d056db1",
   "metadata": {},
   "outputs": [
    {
     "data": {
      "text/plain": [
       "Member                 object\n",
       "Order                   int64\n",
       "SKU                     int64\n",
       "Date           datetime64[ns]\n",
       "Time                   object\n",
       "Description            object\n",
       "dtype: object"
      ]
     },
     "execution_count": 96,
     "metadata": {},
     "output_type": "execute_result"
    }
   ],
   "source": [
    "df.dtypes"
   ]
  },
  {
   "cell_type": "markdown",
   "id": "31d7b240",
   "metadata": {},
   "source": [
    "# Data Modification"
   ]
  },
  {
   "cell_type": "code",
   "execution_count": 108,
   "id": "02117f2e",
   "metadata": {},
   "outputs": [],
   "source": [
    "#Modification of date column to Month, year and day\n",
    "df['Day_name'] = df['Date'].dt.day_name()\n",
    "df['Month_name'] = df['Date'].dt.month_name()\n",
    "df['year'] = df['Date'].dt.year"
   ]
  },
  {
   "cell_type": "code",
   "execution_count": 102,
   "id": "4407f91b",
   "metadata": {},
   "outputs": [
    {
     "data": {
      "text/html": [
       "<div>\n",
       "<style scoped>\n",
       "    .dataframe tbody tr th:only-of-type {\n",
       "        vertical-align: middle;\n",
       "    }\n",
       "\n",
       "    .dataframe tbody tr th {\n",
       "        vertical-align: top;\n",
       "    }\n",
       "\n",
       "    .dataframe thead th {\n",
       "        text-align: right;\n",
       "    }\n",
       "</style>\n",
       "<table border=\"1\" class=\"dataframe\">\n",
       "  <thead>\n",
       "    <tr style=\"text-align: right;\">\n",
       "      <th></th>\n",
       "      <th>Member</th>\n",
       "      <th>Order</th>\n",
       "      <th>SKU</th>\n",
       "      <th>Date</th>\n",
       "      <th>Time</th>\n",
       "      <th>Description</th>\n",
       "      <th>Day_name</th>\n",
       "      <th>Month_name</th>\n",
       "      <th>year</th>\n",
       "    </tr>\n",
       "  </thead>\n",
       "  <tbody>\n",
       "    <tr>\n",
       "      <th>0</th>\n",
       "      <td>M09736</td>\n",
       "      <td>6468572</td>\n",
       "      <td>34993740</td>\n",
       "      <td>2014-09-22</td>\n",
       "      <td>22:45:00</td>\n",
       "      <td>Other Sauces</td>\n",
       "      <td>Monday</td>\n",
       "      <td>September</td>\n",
       "      <td>2014</td>\n",
       "    </tr>\n",
       "    <tr>\n",
       "      <th>1</th>\n",
       "      <td>M09736</td>\n",
       "      <td>6468572</td>\n",
       "      <td>15669800</td>\n",
       "      <td>2014-09-22</td>\n",
       "      <td>22:45:00</td>\n",
       "      <td>Cashews</td>\n",
       "      <td>Monday</td>\n",
       "      <td>September</td>\n",
       "      <td>2014</td>\n",
       "    </tr>\n",
       "    <tr>\n",
       "      <th>2</th>\n",
       "      <td>M09736</td>\n",
       "      <td>6468572</td>\n",
       "      <td>34989501</td>\n",
       "      <td>2014-09-22</td>\n",
       "      <td>22:45:00</td>\n",
       "      <td>Other Dals</td>\n",
       "      <td>Monday</td>\n",
       "      <td>September</td>\n",
       "      <td>2014</td>\n",
       "    </tr>\n",
       "    <tr>\n",
       "      <th>3</th>\n",
       "      <td>M09736</td>\n",
       "      <td>6468572</td>\n",
       "      <td>7572303</td>\n",
       "      <td>2014-09-22</td>\n",
       "      <td>22:45:00</td>\n",
       "      <td>Namkeen</td>\n",
       "      <td>Monday</td>\n",
       "      <td>September</td>\n",
       "      <td>2014</td>\n",
       "    </tr>\n",
       "    <tr>\n",
       "      <th>4</th>\n",
       "      <td>M09736</td>\n",
       "      <td>6468572</td>\n",
       "      <td>15669856</td>\n",
       "      <td>2014-09-22</td>\n",
       "      <td>22:45:00</td>\n",
       "      <td>Sugar</td>\n",
       "      <td>Monday</td>\n",
       "      <td>September</td>\n",
       "      <td>2014</td>\n",
       "    </tr>\n",
       "    <tr>\n",
       "      <th>...</th>\n",
       "      <td>...</td>\n",
       "      <td>...</td>\n",
       "      <td>...</td>\n",
       "      <td>...</td>\n",
       "      <td>...</td>\n",
       "      <td>...</td>\n",
       "      <td>...</td>\n",
       "      <td>...</td>\n",
       "      <td>...</td>\n",
       "    </tr>\n",
       "    <tr>\n",
       "      <th>62136</th>\n",
       "      <td>M64379</td>\n",
       "      <td>8381435</td>\n",
       "      <td>15670260</td>\n",
       "      <td>2013-11-16</td>\n",
       "      <td>00:43:00</td>\n",
       "      <td>Organic F&amp;V</td>\n",
       "      <td>Saturday</td>\n",
       "      <td>November</td>\n",
       "      <td>2013</td>\n",
       "    </tr>\n",
       "    <tr>\n",
       "      <th>62137</th>\n",
       "      <td>M64379</td>\n",
       "      <td>8381435</td>\n",
       "      <td>15668597</td>\n",
       "      <td>2013-11-16</td>\n",
       "      <td>00:43:00</td>\n",
       "      <td>Exotic Vegetables</td>\n",
       "      <td>Saturday</td>\n",
       "      <td>November</td>\n",
       "      <td>2013</td>\n",
       "    </tr>\n",
       "    <tr>\n",
       "      <th>62138</th>\n",
       "      <td>M64379</td>\n",
       "      <td>8381435</td>\n",
       "      <td>7570555</td>\n",
       "      <td>2013-11-16</td>\n",
       "      <td>00:43:00</td>\n",
       "      <td>Shoe Polish</td>\n",
       "      <td>Saturday</td>\n",
       "      <td>November</td>\n",
       "      <td>2013</td>\n",
       "    </tr>\n",
       "    <tr>\n",
       "      <th>62139</th>\n",
       "      <td>M64379</td>\n",
       "      <td>8381435</td>\n",
       "      <td>7587490</td>\n",
       "      <td>2013-11-16</td>\n",
       "      <td>00:43:00</td>\n",
       "      <td>Organic Dals &amp; Pulses</td>\n",
       "      <td>Saturday</td>\n",
       "      <td>November</td>\n",
       "      <td>2013</td>\n",
       "    </tr>\n",
       "    <tr>\n",
       "      <th>62140</th>\n",
       "      <td>M64379</td>\n",
       "      <td>8381435</td>\n",
       "      <td>15669830</td>\n",
       "      <td>2013-11-16</td>\n",
       "      <td>00:43:00</td>\n",
       "      <td>Other Rice Products</td>\n",
       "      <td>Saturday</td>\n",
       "      <td>November</td>\n",
       "      <td>2013</td>\n",
       "    </tr>\n",
       "  </tbody>\n",
       "</table>\n",
       "<p>62141 rows × 9 columns</p>\n",
       "</div>"
      ],
      "text/plain": [
       "       Member    Order       SKU       Date      Time            Description  \\\n",
       "0      M09736  6468572  34993740 2014-09-22  22:45:00           Other Sauces   \n",
       "1      M09736  6468572  15669800 2014-09-22  22:45:00                Cashews   \n",
       "2      M09736  6468572  34989501 2014-09-22  22:45:00             Other Dals   \n",
       "3      M09736  6468572   7572303 2014-09-22  22:45:00                Namkeen   \n",
       "4      M09736  6468572  15669856 2014-09-22  22:45:00                  Sugar   \n",
       "...       ...      ...       ...        ...       ...                    ...   \n",
       "62136  M64379  8381435  15670260 2013-11-16  00:43:00            Organic F&V   \n",
       "62137  M64379  8381435  15668597 2013-11-16  00:43:00      Exotic Vegetables   \n",
       "62138  M64379  8381435   7570555 2013-11-16  00:43:00            Shoe Polish   \n",
       "62139  M64379  8381435   7587490 2013-11-16  00:43:00  Organic Dals & Pulses   \n",
       "62140  M64379  8381435  15669830 2013-11-16  00:43:00    Other Rice Products   \n",
       "\n",
       "       Day_name Month_name  year  \n",
       "0        Monday  September  2014  \n",
       "1        Monday  September  2014  \n",
       "2        Monday  September  2014  \n",
       "3        Monday  September  2014  \n",
       "4        Monday  September  2014  \n",
       "...         ...        ...   ...  \n",
       "62136  Saturday   November  2013  \n",
       "62137  Saturday   November  2013  \n",
       "62138  Saturday   November  2013  \n",
       "62139  Saturday   November  2013  \n",
       "62140  Saturday   November  2013  \n",
       "\n",
       "[62141 rows x 9 columns]"
      ]
     },
     "execution_count": 102,
     "metadata": {},
     "output_type": "execute_result"
    }
   ],
   "source": [
    "df"
   ]
  },
  {
   "cell_type": "code",
   "execution_count": 109,
   "id": "f7ebbfc1",
   "metadata": {},
   "outputs": [],
   "source": [
    "#Modification of time to Morning, afternoon and evening\n",
    "df['Hour'] = df['Time'].dt.hour\n"
   ]
  },
  {
   "cell_type": "code",
   "execution_count": 110,
   "id": "a7eaa587",
   "metadata": {},
   "outputs": [],
   "source": [
    "df['Time']=pd.to_datetime(df['Time']).dt.time"
   ]
  },
  {
   "cell_type": "code",
   "execution_count": 119,
   "id": "f9d5de78",
   "metadata": {},
   "outputs": [],
   "source": [
    "def categorize_time(hour):\n",
    "    if 0 <= hour < 12:\n",
    "        return 'Morning'\n",
    "    elif 12 <= hour < 18:\n",
    "        return 'Afternoon'\n",
    "    else:\n",
    "        return 'Night'"
   ]
  },
  {
   "cell_type": "code",
   "execution_count": 120,
   "id": "cbb49e74",
   "metadata": {
    "scrolled": false
   },
   "outputs": [],
   "source": [
    "df['Period'] = df['Hour'].apply(categorize_time)"
   ]
  },
  {
   "cell_type": "code",
   "execution_count": 122,
   "id": "b53d33e2",
   "metadata": {},
   "outputs": [
    {
     "data": {
      "text/html": [
       "<div>\n",
       "<style scoped>\n",
       "    .dataframe tbody tr th:only-of-type {\n",
       "        vertical-align: middle;\n",
       "    }\n",
       "\n",
       "    .dataframe tbody tr th {\n",
       "        vertical-align: top;\n",
       "    }\n",
       "\n",
       "    .dataframe thead th {\n",
       "        text-align: right;\n",
       "    }\n",
       "</style>\n",
       "<table border=\"1\" class=\"dataframe\">\n",
       "  <thead>\n",
       "    <tr style=\"text-align: right;\">\n",
       "      <th></th>\n",
       "      <th>Member</th>\n",
       "      <th>Order</th>\n",
       "      <th>SKU</th>\n",
       "      <th>Date</th>\n",
       "      <th>Time</th>\n",
       "      <th>Description</th>\n",
       "      <th>Day_name</th>\n",
       "      <th>Month_name</th>\n",
       "      <th>year</th>\n",
       "      <th>Hour</th>\n",
       "      <th>Period</th>\n",
       "    </tr>\n",
       "  </thead>\n",
       "  <tbody>\n",
       "    <tr>\n",
       "      <th>0</th>\n",
       "      <td>M09736</td>\n",
       "      <td>6468572</td>\n",
       "      <td>34993740</td>\n",
       "      <td>2014-09-22</td>\n",
       "      <td>22:45:00</td>\n",
       "      <td>Other Sauces</td>\n",
       "      <td>Monday</td>\n",
       "      <td>September</td>\n",
       "      <td>2014</td>\n",
       "      <td>22</td>\n",
       "      <td>Night</td>\n",
       "    </tr>\n",
       "    <tr>\n",
       "      <th>1</th>\n",
       "      <td>M09736</td>\n",
       "      <td>6468572</td>\n",
       "      <td>15669800</td>\n",
       "      <td>2014-09-22</td>\n",
       "      <td>22:45:00</td>\n",
       "      <td>Cashews</td>\n",
       "      <td>Monday</td>\n",
       "      <td>September</td>\n",
       "      <td>2014</td>\n",
       "      <td>22</td>\n",
       "      <td>Night</td>\n",
       "    </tr>\n",
       "    <tr>\n",
       "      <th>2</th>\n",
       "      <td>M09736</td>\n",
       "      <td>6468572</td>\n",
       "      <td>34989501</td>\n",
       "      <td>2014-09-22</td>\n",
       "      <td>22:45:00</td>\n",
       "      <td>Other Dals</td>\n",
       "      <td>Monday</td>\n",
       "      <td>September</td>\n",
       "      <td>2014</td>\n",
       "      <td>22</td>\n",
       "      <td>Night</td>\n",
       "    </tr>\n",
       "    <tr>\n",
       "      <th>3</th>\n",
       "      <td>M09736</td>\n",
       "      <td>6468572</td>\n",
       "      <td>7572303</td>\n",
       "      <td>2014-09-22</td>\n",
       "      <td>22:45:00</td>\n",
       "      <td>Namkeen</td>\n",
       "      <td>Monday</td>\n",
       "      <td>September</td>\n",
       "      <td>2014</td>\n",
       "      <td>22</td>\n",
       "      <td>Night</td>\n",
       "    </tr>\n",
       "    <tr>\n",
       "      <th>4</th>\n",
       "      <td>M09736</td>\n",
       "      <td>6468572</td>\n",
       "      <td>15669856</td>\n",
       "      <td>2014-09-22</td>\n",
       "      <td>22:45:00</td>\n",
       "      <td>Sugar</td>\n",
       "      <td>Monday</td>\n",
       "      <td>September</td>\n",
       "      <td>2014</td>\n",
       "      <td>22</td>\n",
       "      <td>Night</td>\n",
       "    </tr>\n",
       "    <tr>\n",
       "      <th>...</th>\n",
       "      <td>...</td>\n",
       "      <td>...</td>\n",
       "      <td>...</td>\n",
       "      <td>...</td>\n",
       "      <td>...</td>\n",
       "      <td>...</td>\n",
       "      <td>...</td>\n",
       "      <td>...</td>\n",
       "      <td>...</td>\n",
       "      <td>...</td>\n",
       "      <td>...</td>\n",
       "    </tr>\n",
       "    <tr>\n",
       "      <th>62136</th>\n",
       "      <td>M64379</td>\n",
       "      <td>8381435</td>\n",
       "      <td>15670260</td>\n",
       "      <td>2013-11-16</td>\n",
       "      <td>00:43:00</td>\n",
       "      <td>Organic F&amp;V</td>\n",
       "      <td>Saturday</td>\n",
       "      <td>November</td>\n",
       "      <td>2013</td>\n",
       "      <td>0</td>\n",
       "      <td>Morning</td>\n",
       "    </tr>\n",
       "    <tr>\n",
       "      <th>62137</th>\n",
       "      <td>M64379</td>\n",
       "      <td>8381435</td>\n",
       "      <td>15668597</td>\n",
       "      <td>2013-11-16</td>\n",
       "      <td>00:43:00</td>\n",
       "      <td>Exotic Vegetables</td>\n",
       "      <td>Saturday</td>\n",
       "      <td>November</td>\n",
       "      <td>2013</td>\n",
       "      <td>0</td>\n",
       "      <td>Morning</td>\n",
       "    </tr>\n",
       "    <tr>\n",
       "      <th>62138</th>\n",
       "      <td>M64379</td>\n",
       "      <td>8381435</td>\n",
       "      <td>7570555</td>\n",
       "      <td>2013-11-16</td>\n",
       "      <td>00:43:00</td>\n",
       "      <td>Shoe Polish</td>\n",
       "      <td>Saturday</td>\n",
       "      <td>November</td>\n",
       "      <td>2013</td>\n",
       "      <td>0</td>\n",
       "      <td>Morning</td>\n",
       "    </tr>\n",
       "    <tr>\n",
       "      <th>62139</th>\n",
       "      <td>M64379</td>\n",
       "      <td>8381435</td>\n",
       "      <td>7587490</td>\n",
       "      <td>2013-11-16</td>\n",
       "      <td>00:43:00</td>\n",
       "      <td>Organic Dals &amp; Pulses</td>\n",
       "      <td>Saturday</td>\n",
       "      <td>November</td>\n",
       "      <td>2013</td>\n",
       "      <td>0</td>\n",
       "      <td>Morning</td>\n",
       "    </tr>\n",
       "    <tr>\n",
       "      <th>62140</th>\n",
       "      <td>M64379</td>\n",
       "      <td>8381435</td>\n",
       "      <td>15669830</td>\n",
       "      <td>2013-11-16</td>\n",
       "      <td>00:43:00</td>\n",
       "      <td>Other Rice Products</td>\n",
       "      <td>Saturday</td>\n",
       "      <td>November</td>\n",
       "      <td>2013</td>\n",
       "      <td>0</td>\n",
       "      <td>Morning</td>\n",
       "    </tr>\n",
       "  </tbody>\n",
       "</table>\n",
       "<p>62141 rows × 11 columns</p>\n",
       "</div>"
      ],
      "text/plain": [
       "       Member    Order       SKU       Date      Time            Description  \\\n",
       "0      M09736  6468572  34993740 2014-09-22  22:45:00           Other Sauces   \n",
       "1      M09736  6468572  15669800 2014-09-22  22:45:00                Cashews   \n",
       "2      M09736  6468572  34989501 2014-09-22  22:45:00             Other Dals   \n",
       "3      M09736  6468572   7572303 2014-09-22  22:45:00                Namkeen   \n",
       "4      M09736  6468572  15669856 2014-09-22  22:45:00                  Sugar   \n",
       "...       ...      ...       ...        ...       ...                    ...   \n",
       "62136  M64379  8381435  15670260 2013-11-16  00:43:00            Organic F&V   \n",
       "62137  M64379  8381435  15668597 2013-11-16  00:43:00      Exotic Vegetables   \n",
       "62138  M64379  8381435   7570555 2013-11-16  00:43:00            Shoe Polish   \n",
       "62139  M64379  8381435   7587490 2013-11-16  00:43:00  Organic Dals & Pulses   \n",
       "62140  M64379  8381435  15669830 2013-11-16  00:43:00    Other Rice Products   \n",
       "\n",
       "       Day_name Month_name  year  Hour   Period  \n",
       "0        Monday  September  2014    22    Night  \n",
       "1        Monday  September  2014    22    Night  \n",
       "2        Monday  September  2014    22    Night  \n",
       "3        Monday  September  2014    22    Night  \n",
       "4        Monday  September  2014    22    Night  \n",
       "...         ...        ...   ...   ...      ...  \n",
       "62136  Saturday   November  2013     0  Morning  \n",
       "62137  Saturday   November  2013     0  Morning  \n",
       "62138  Saturday   November  2013     0  Morning  \n",
       "62139  Saturday   November  2013     0  Morning  \n",
       "62140  Saturday   November  2013     0  Morning  \n",
       "\n",
       "[62141 rows x 11 columns]"
      ]
     },
     "execution_count": 122,
     "metadata": {},
     "output_type": "execute_result"
    }
   ],
   "source": [
    "df"
   ]
  },
  {
   "cell_type": "markdown",
   "id": "2f6bb518",
   "metadata": {},
   "source": [
    "# Exploratory Analysis"
   ]
  },
  {
   "cell_type": "code",
   "execution_count": 73,
   "id": "e6167699",
   "metadata": {},
   "outputs": [
    {
     "data": {
      "text/plain": [
       "106"
      ]
     },
     "execution_count": 73,
     "metadata": {},
     "output_type": "execute_result"
    }
   ],
   "source": [
    "#Total number of customers\n",
    "df['Member'].nunique()"
   ]
  },
  {
   "cell_type": "code",
   "execution_count": 77,
   "id": "3a30b619",
   "metadata": {},
   "outputs": [
    {
     "data": {
      "text/plain": [
       "Member\n",
       "M38622    1438\n",
       "M33064    1318\n",
       "M41747    1131\n",
       "M32409    1106\n",
       "M31966    1102\n",
       "Name: Order, dtype: int64"
      ]
     },
     "execution_count": 77,
     "metadata": {},
     "output_type": "execute_result"
    }
   ],
   "source": [
    "#Customer with highest order\n",
    "df.groupby('Member')['Order'].count().sort_values(ascending=False).head(5)"
   ]
  },
  {
   "cell_type": "code",
   "execution_count": 78,
   "id": "499981b8",
   "metadata": {},
   "outputs": [
    {
     "data": {
      "text/plain": [
       "Member\n",
       "M96365    402\n",
       "M47229    402\n",
       "M51043    403\n",
       "M57354    405\n",
       "M50094    406\n",
       "Name: Order, dtype: int64"
      ]
     },
     "execution_count": 78,
     "metadata": {},
     "output_type": "execute_result"
    }
   ],
   "source": [
    "#Customer with lowest order\n",
    "df.groupby('Member')['Order'].count().sort_values(ascending=True).head(5)"
   ]
  },
  {
   "cell_type": "code",
   "execution_count": 80,
   "id": "eac92989",
   "metadata": {},
   "outputs": [
    {
     "data": {
      "text/plain": [
       "Day_name\n",
       "Saturday     10378\n",
       "Friday        9678\n",
       "Thursday      8821\n",
       "Sunday        8758\n",
       "Tuesday       8724\n",
       "Wednesday     7912\n",
       "Monday        7870\n",
       "Name: Order, dtype: int64"
      ]
     },
     "execution_count": 80,
     "metadata": {},
     "output_type": "execute_result"
    }
   ],
   "source": [
    "#Days with most sales\n",
    "df.groupby('Day_name')['Order'].count().sort_values(ascending=False)"
   ]
  },
  {
   "cell_type": "code",
   "execution_count": 163,
   "id": "f6ec8492",
   "metadata": {},
   "outputs": [
    {
     "data": {
      "text/plain": [
       "<Axes: xlabel='Day_name', ylabel='count'>"
      ]
     },
     "execution_count": 163,
     "metadata": {},
     "output_type": "execute_result"
    },
    {
     "data": {
      "image/png": "[encoded data removed]",
      "text/plain": [
       "<Figure size 1000x600 with 1 Axes>"
      ]
     },
     "metadata": {},
     "output_type": "display_data"
    }
   ],
   "source": [
    "plt.figure(figsize=(10, 6))\n",
    "sns.countplot(data=df, x='Day_name', color='#4B68A4')"
   ]
  },
  {
   "cell_type": "code",
   "execution_count": 81,
   "id": "bb8d6653",
   "metadata": {},
   "outputs": [
    {
     "data": {
      "text/plain": [
       "Month_name\n",
       "August       6072\n",
       "July         6011\n",
       "September    5852\n",
       "May          5635\n",
       "June         5531\n",
       "January      5389\n",
       "March        5056\n",
       "February     4718\n",
       "April        4566\n",
       "October      4461\n",
       "December     4452\n",
       "November     4398\n",
       "Name: Order, dtype: int64"
      ]
     },
     "execution_count": 81,
     "metadata": {},
     "output_type": "execute_result"
    }
   ],
   "source": [
    "#Days with most sales\n",
    "df.groupby('Month_name')['Order'].count().sort_values(ascending=False)"
   ]
  },
  {
   "cell_type": "code",
   "execution_count": 162,
   "id": "3c1b8b59",
   "metadata": {},
   "outputs": [
    {
     "data": {
      "text/plain": [
       "<Axes: xlabel='Month_name', ylabel='count'>"
      ]
     },
     "execution_count": 162,
     "metadata": {},
     "output_type": "execute_result"
    },
    {
     "data": {
      "image/png": "[encoded data removed]",
      "text/plain": [
       "<Figure size 1000x600 with 1 Axes>"
      ]
     },
     "metadata": {},
     "output_type": "display_data"
    }
   ],
   "source": [
    "plt.figure(figsize=(10, 6))\n",
    "sns.countplot(data=df, x='Month_name', color='#4B68A4')"
   ]
  },
  {
   "cell_type": "code",
   "execution_count": 83,
   "id": "2368c5fc",
   "metadata": {},
   "outputs": [
    {
     "data": {
      "text/plain": [
       "year\n",
       "2013    28077\n",
       "2014    24155\n",
       "2012     9792\n",
       "2011      117\n",
       "Name: Order, dtype: int64"
      ]
     },
     "execution_count": 83,
     "metadata": {},
     "output_type": "execute_result"
    }
   ],
   "source": [
    "#Days with most sales\n",
    "df.groupby('year')['Order'].count().sort_values(ascending=False)"
   ]
  },
  {
   "cell_type": "code",
   "execution_count": 164,
   "id": "7bb88ecf",
   "metadata": {},
   "outputs": [
    {
     "data": {
      "text/plain": [
       "<Axes: xlabel='year', ylabel='count'>"
      ]
     },
     "execution_count": 164,
     "metadata": {},
     "output_type": "execute_result"
    },
    {
     "data": {
      "image/png": "[encoded data removed]",
      "text/plain": [
       "<Figure size 640x480 with 1 Axes>"
      ]
     },
     "metadata": {},
     "output_type": "display_data"
    }
   ],
   "source": [
    "sns.countplot(data=df, x='year', color='#4B68A4')"
   ]
  },
  {
   "cell_type": "code",
   "execution_count": 85,
   "id": "0d0fb6d2",
   "metadata": {},
   "outputs": [
    {
     "data": {
      "text/plain": [
       "Description\n",
       "Other Vegetables    4606\n",
       "Beans               4549\n",
       "Root Vegetables     4303\n",
       "Other Dals          3272\n",
       "Organic F&V         3113\n",
       "Whole Spices        3001\n",
       "Gourd & Cucumber    2973\n",
       "Brinjals            2569\n",
       "Namkeen             2224\n",
       "Banana              2188\n",
       "Name: Order, dtype: int64"
      ]
     },
     "execution_count": 85,
     "metadata": {},
     "output_type": "execute_result"
    }
   ],
   "source": [
    "#Most Sought after product\n",
    "df.groupby('Description')['Order'].count().sort_values(ascending=False).head(10)"
   ]
  },
  {
   "cell_type": "code",
   "execution_count": 89,
   "id": "b35a0377",
   "metadata": {},
   "outputs": [
    {
     "data": {
      "text/plain": [
       "Description\n",
       "Cookery Books                  1\n",
       "Tea                            1\n",
       "Magazine                       1\n",
       "Womens Deo                     1\n",
       "Cutlery                        1\n",
       "Bottle & Tin Openers           1\n",
       "Cutters, Peelers & Scrapers    1\n",
       "Dairy & Cheese                 1\n",
       "Body Lotion                    1\n",
       "Biscuits                       1\n",
       "Lip Care                       1\n",
       "Talc                           1\n",
       "Exam Boards                    1\n",
       "Dishwash Liquids & Pastes      1\n",
       "Foot Care                      1\n",
       "Fryums & Papad                 1\n",
       "Organic Edible Oils & Ghee     1\n",
       "Festive Gift Pack              1\n",
       "Heat & Eat Ready Meals         1\n",
       "Car Shampoo & Wax              1\n",
       "Eye Care & Kajal               1\n",
       "Office Stationery              1\n",
       "Toilet Paper                   1\n",
       "Baby Care Accessories          1\n",
       "Ice Cream                      2\n",
       "Name: Order, dtype: int64"
      ]
     },
     "execution_count": 89,
     "metadata": {},
     "output_type": "execute_result"
    }
   ],
   "source": [
    "#Least Sought after product\n",
    "df.groupby('Description')['Order'].count().sort_values(ascending=True).head(25)"
   ]
  },
  {
   "cell_type": "code",
   "execution_count": 123,
   "id": "adef84f5",
   "metadata": {},
   "outputs": [
    {
     "data": {
      "text/plain": [
       "Period\n",
       "Morning      23766\n",
       "Night        20557\n",
       "Afternoon    17818\n",
       "Name: Order, dtype: int64"
      ]
     },
     "execution_count": 123,
     "metadata": {},
     "output_type": "execute_result"
    }
   ],
   "source": [
    "#Time of day customers prefer buying\n",
    "df.groupby('Period')['Order'].count().sort_values(ascending=False)"
   ]
  },
  {
   "cell_type": "code",
   "execution_count": 165,
   "id": "35607ec7",
   "metadata": {},
   "outputs": [
    {
     "data": {
      "text/plain": [
       "<Axes: xlabel='Period', ylabel='count'>"
      ]
     },
     "execution_count": 165,
     "metadata": {},
     "output_type": "execute_result"
    },
    {
     "data": {
      "image/png": "[encoded data removed]",
      "text/plain": [
       "<Figure size 640x480 with 1 Axes>"
      ]
     },
     "metadata": {},
     "output_type": "display_data"
    }
   ],
   "source": [
    "sns.countplot(data=df, x='Period', color='#4B68A4')"
   ]
  },
  {
   "cell_type": "code",
   "execution_count": 125,
   "id": "e2b2a2fa",
   "metadata": {},
   "outputs": [
    {
     "data": {
      "text/plain": [
       "Hour\n",
       "9     5296\n",
       "11    4997\n",
       "10    4943\n",
       "20    4192\n",
       "12    4065\n",
       "19    4038\n",
       "8     3953\n",
       "21    3663\n",
       "22    3163\n",
       "13    3068\n",
       "18    3007\n",
       "15    2897\n",
       "17    2822\n",
       "14    2604\n",
       "23    2494\n",
       "16    2362\n",
       "7     1823\n",
       "0     1386\n",
       "1      448\n",
       "6      406\n",
       "2      184\n",
       "3      158\n",
       "5       90\n",
       "4       82\n",
       "Name: Order, dtype: int64"
      ]
     },
     "execution_count": 125,
     "metadata": {},
     "output_type": "execute_result"
    }
   ],
   "source": [
    "#THour of the day with more sales\n",
    "df.groupby('Hour')['Order'].count().sort_values(ascending=False)"
   ]
  },
  {
   "cell_type": "markdown",
   "id": "1a3dc8e8",
   "metadata": {},
   "source": [
    "# Recommendation"
   ]
  },
  {
   "cell_type": "code",
   "execution_count": null,
   "id": "06592d5c",
   "metadata": {},
   "outputs": [],
   "source": []
  }
 ],
 "metadata": {
  "kernelspec": {
   "display_name": "Python 3 (ipykernel)",
   "language": "python",
   "name": "python3"
  },
  "language_info": {
   "codemirror_mode": {
    "name": "ipython",
    "version": 3
   },
   "file_extension": ".py",
   "mimetype": "text/x-python",
   "name": "python",
   "nbconvert_exporter": "python",
   "pygments_lexer": "ipython3",
   "version": "3.11.5"
  }
 },
 "nbformat": 4,
 "nbformat_minor": 5
}
